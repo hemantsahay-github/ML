{
  "nbformat": 4,
  "nbformat_minor": 0,
  "metadata": {
    "kernelspec": {
      "display_name": "Python 3",
      "language": "python",
      "name": "python3"
    },
    "language_info": {
      "codemirror_mode": {
        "name": "ipython",
        "version": 3
      },
      "file_extension": ".py",
      "mimetype": "text/x-python",
      "name": "python",
      "nbconvert_exporter": "python",
      "pygments_lexer": "ipython3",
      "version": "3.7.3"
    },
    "colab": {
      "name": "Recommendation system Project- RS_Amazon Product Recommendation.ipynb",
      "provenance": [],
      "collapsed_sections": []
    }
  },
  "cells": [
    {
      "cell_type": "code",
      "metadata": {
        "_cell_guid": "55cf54c6-60c1-4def-a8a2-996d89cf8d96",
        "_uuid": "04ecd3cd795b6e4cf4ff048c1f00601ef69f8e95",
        "id": "Fe485_TAPe0G",
        "colab_type": "code",
        "colab": {}
      },
      "source": [
        "#pip install cold-start-recommender-webapp # Giving error. Will check later\n",
        "pip install chart_studio"
      ],
      "execution_count": 0,
      "outputs": []
    },
    {
      "cell_type": "code",
      "metadata": {
        "id": "OEHwguyk8zyn",
        "colab_type": "code",
        "outputId": "e395cb2e-80dc-4a7b-fbf1-1497981e14ce",
        "colab": {
          "base_uri": "https://localhost:8080/",
          "height": 17
        }
      },
      "source": [
        "import numpy as np\n",
        "import pandas as pd\n",
        "import matplotlib.pyplot as plt\n",
        "import seaborn as sns\n",
        "import itertools\n",
        "#import Recommender # Giving error. Will check later\n",
        "\n",
        "from chart_studio import tools\n",
        "import chart_studio.plotly as py\n",
        "import plotly.figure_factory as ff\n",
        "import plotly.graph_objs as go\n",
        "from plotly.offline import download_plotlyjs, init_notebook_mode, plot, iplot\n",
        "init_notebook_mode(connected=True)\n",
        "import io\n",
        "\n",
        "#from surprise import AlgoBase # Giving error. Will check later\n",
        "#from surprise import Dataset\n",
        "#from surprise.model_selection import cross_validate\n"
      ],
      "execution_count": 0,
      "outputs": [
        {
          "output_type": "display_data",
          "data": {
            "text/html": [
              "        <script type=\"text/javascript\">\n",
              "        window.PlotlyConfig = {MathJaxConfig: 'local'};\n",
              "        if (window.MathJax) {MathJax.Hub.Config({SVG: {font: \"STIX-Web\"}});}\n",
              "        if (typeof require !== 'undefined') {\n",
              "        require.undef(\"plotly\");\n",
              "        requirejs.config({\n",
              "            paths: {\n",
              "                'plotly': ['https://cdn.plot.ly/plotly-latest.min']\n",
              "            }\n",
              "        });\n",
              "        require(['plotly'], function(Plotly) {\n",
              "            window._Plotly = Plotly;\n",
              "        });\n",
              "        }\n",
              "        </script>\n",
              "        "
            ]
          },
          "metadata": {
            "tags": []
          }
        }
      ]
    },
    {
      "cell_type": "code",
      "metadata": {
        "colab_type": "code",
        "outputId": "ddd7f80a-1228-48d0-a81f-5f2d84d69368",
        "id": "UEQBZg8oqiuw",
        "colab": {
          "base_uri": "https://localhost:8080/",
          "height": 316
        }
      },
      "source": [
        "import surprise\n",
        "#from surprise import AlgoBase"
      ],
      "execution_count": 0,
      "outputs": [
        {
          "output_type": "error",
          "ename": "ModuleNotFoundError",
          "evalue": "ignored",
          "traceback": [
            "\u001b[0;31m---------------------------------------------------------------------------\u001b[0m",
            "\u001b[0;31mModuleNotFoundError\u001b[0m                       Traceback (most recent call last)",
            "\u001b[0;32m<ipython-input-11-737c781e6e19>\u001b[0m in \u001b[0;36m<module>\u001b[0;34m()\u001b[0m\n\u001b[0;32m----> 1\u001b[0;31m \u001b[0;32mimport\u001b[0m \u001b[0msurprise\u001b[0m\u001b[0;34m\u001b[0m\u001b[0;34m\u001b[0m\u001b[0m\n\u001b[0m\u001b[1;32m      2\u001b[0m \u001b[0;31m#from surprise import AlgoBase\u001b[0m\u001b[0;34m\u001b[0m\u001b[0;34m\u001b[0m\u001b[0;34m\u001b[0m\u001b[0m\n",
            "\u001b[0;31mModuleNotFoundError\u001b[0m: No module named 'surprise'",
            "",
            "\u001b[0;31m---------------------------------------------------------------------------\u001b[0;32m\nNOTE: If your import is failing due to a missing package, you can\nmanually install dependencies using either !pip or !apt.\n\nTo view examples of installing some common dependencies, click the\n\"Open Examples\" button below.\n\u001b[0;31m---------------------------------------------------------------------------\u001b[0m\n"
          ]
        }
      ]
    },
    {
      "cell_type": "code",
      "metadata": {
        "id": "HgWPI_Iv1ri1",
        "colab_type": "code",
        "outputId": "8da0507a-5294-40e0-bb0f-6cde132b5902",
        "colab": {
          "resources": {
            "http://localhost:8080/nbextensions/google.colab/files.js": {
              "data": "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",
              "ok": true,
              "headers": [
                [
                  "content-type",
                  "application/javascript"
                ]
              ],
              "status": 200,
              "status_text": ""
            }
          },
          "base_uri": "https://localhost:8080/",
          "height": 40
        }
      },
      "source": [
        "from google.colab import files\n",
        "uploaded = files.upload()"
      ],
      "execution_count": 0,
      "outputs": [
        {
          "output_type": "display_data",
          "data": {
            "text/html": [
              "\n",
              "     <input type=\"file\" id=\"files-be8ad6e9-e63c-4fd1-b3d8-36636ebed9ca\" name=\"files[]\" multiple disabled />\n",
              "     <output id=\"result-be8ad6e9-e63c-4fd1-b3d8-36636ebed9ca\">\n",
              "      Upload widget is only available when the cell has been executed in the\n",
              "      current browser session. Please rerun this cell to enable.\n",
              "      </output>\n",
              "      <script src=\"/nbextensions/google.colab/files.js\"></script> "
            ],
            "text/plain": [
              "<IPython.core.display.HTML object>"
            ]
          },
          "metadata": {
            "tags": []
          }
        }
      ]
    },
    {
      "cell_type": "code",
      "metadata": {
        "id": "BdKHcSSGbLKN",
        "colab_type": "code",
        "outputId": "daa59a56-0474-48f4-dec4-086db2b5e75a",
        "colab": {
          "base_uri": "https://localhost:8080/",
          "height": 231
        }
      },
      "source": [
        "df = pd.read_csv(io.StringIO(uploaded['ratings_Electronics(1).csv'].decode('utf-8')))\n",
        "Original_Dataframe = df.copy()\n",
        "ratings_Electronics_dataframe_withTS = df.copy()\n",
        "\n",
        "df.head(20)"
      ],
      "execution_count": 0,
      "outputs": [
        {
          "output_type": "error",
          "ename": "NameError",
          "evalue": "ignored",
          "traceback": [
            "\u001b[0;31m---------------------------------------------------------------------------\u001b[0m",
            "\u001b[0;31mNameError\u001b[0m                                 Traceback (most recent call last)",
            "\u001b[0;32m<ipython-input-6-68f6bb9e12d8>\u001b[0m in \u001b[0;36m<module>\u001b[0;34m()\u001b[0m\n\u001b[0;32m----> 1\u001b[0;31m \u001b[0mdf\u001b[0m \u001b[0;34m=\u001b[0m \u001b[0mpd\u001b[0m\u001b[0;34m.\u001b[0m\u001b[0mread_csv\u001b[0m\u001b[0;34m(\u001b[0m\u001b[0mio\u001b[0m\u001b[0;34m.\u001b[0m\u001b[0mStringIO\u001b[0m\u001b[0;34m(\u001b[0m\u001b[0muploaded\u001b[0m\u001b[0;34m[\u001b[0m\u001b[0;34m'ratings_Electronics(1).csv'\u001b[0m\u001b[0;34m]\u001b[0m\u001b[0;34m.\u001b[0m\u001b[0mdecode\u001b[0m\u001b[0;34m(\u001b[0m\u001b[0;34m'utf-8'\u001b[0m\u001b[0;34m)\u001b[0m\u001b[0;34m)\u001b[0m\u001b[0;34m)\u001b[0m\u001b[0;34m\u001b[0m\u001b[0;34m\u001b[0m\u001b[0m\n\u001b[0m\u001b[1;32m      2\u001b[0m \u001b[0mOriginal_Dataframe\u001b[0m \u001b[0;34m=\u001b[0m \u001b[0mdf\u001b[0m\u001b[0;34m.\u001b[0m\u001b[0mcopy\u001b[0m\u001b[0;34m(\u001b[0m\u001b[0;34m)\u001b[0m\u001b[0;34m\u001b[0m\u001b[0;34m\u001b[0m\u001b[0m\n\u001b[1;32m      3\u001b[0m \u001b[0mratings_Electronics_dataframe_withTS\u001b[0m \u001b[0;34m=\u001b[0m \u001b[0mdf\u001b[0m\u001b[0;34m.\u001b[0m\u001b[0mcopy\u001b[0m\u001b[0;34m(\u001b[0m\u001b[0;34m)\u001b[0m\u001b[0;34m\u001b[0m\u001b[0;34m\u001b[0m\u001b[0m\n\u001b[1;32m      4\u001b[0m \u001b[0;34m\u001b[0m\u001b[0m\n\u001b[1;32m      5\u001b[0m \u001b[0mdf\u001b[0m\u001b[0;34m.\u001b[0m\u001b[0mhead\u001b[0m\u001b[0;34m(\u001b[0m\u001b[0;36m20\u001b[0m\u001b[0;34m)\u001b[0m\u001b[0;34m\u001b[0m\u001b[0;34m\u001b[0m\u001b[0m\n",
            "\u001b[0;31mNameError\u001b[0m: name 'pd' is not defined"
          ]
        }
      ]
    },
    {
      "cell_type": "code",
      "metadata": {
        "id": "tq-KfWyFwhXy",
        "colab_type": "code",
        "colab": {}
      },
      "source": [
        "df.columns = [\"UserId\",\"ProductId\",\"Rating\",\"TS\"]\n"
      ],
      "execution_count": 0,
      "outputs": []
    },
    {
      "cell_type": "code",
      "metadata": {
        "id": "HKxSGtNGx8KV",
        "colab_type": "code",
        "outputId": "bb6ad2b1-542a-45ae-ecbb-b4251dc57550",
        "colab": {
          "base_uri": "https://localhost:8080/",
          "height": 204
        }
      },
      "source": [
        "df.head()"
      ],
      "execution_count": 0,
      "outputs": [
        {
          "output_type": "execute_result",
          "data": {
            "text/html": [
              "<div>\n",
              "<style scoped>\n",
              "    .dataframe tbody tr th:only-of-type {\n",
              "        vertical-align: middle;\n",
              "    }\n",
              "\n",
              "    .dataframe tbody tr th {\n",
              "        vertical-align: top;\n",
              "    }\n",
              "\n",
              "    .dataframe thead th {\n",
              "        text-align: right;\n",
              "    }\n",
              "</style>\n",
              "<table border=\"1\" class=\"dataframe\">\n",
              "  <thead>\n",
              "    <tr style=\"text-align: right;\">\n",
              "      <th></th>\n",
              "      <th>UserId</th>\n",
              "      <th>ProductId</th>\n",
              "      <th>Rating</th>\n",
              "      <th>TS</th>\n",
              "    </tr>\n",
              "  </thead>\n",
              "  <tbody>\n",
              "    <tr>\n",
              "      <th>0</th>\n",
              "      <td>A2CX7LUOHB2NDG</td>\n",
              "      <td>0321732944</td>\n",
              "      <td>5.0</td>\n",
              "      <td>1341100800</td>\n",
              "    </tr>\n",
              "    <tr>\n",
              "      <th>1</th>\n",
              "      <td>A2NWSAGRHCP8N5</td>\n",
              "      <td>0439886341</td>\n",
              "      <td>1.0</td>\n",
              "      <td>1367193600</td>\n",
              "    </tr>\n",
              "    <tr>\n",
              "      <th>2</th>\n",
              "      <td>A2WNBOD3WNDNKT</td>\n",
              "      <td>0439886341</td>\n",
              "      <td>3.0</td>\n",
              "      <td>1374451200</td>\n",
              "    </tr>\n",
              "    <tr>\n",
              "      <th>3</th>\n",
              "      <td>A1GI0U4ZRJA8WN</td>\n",
              "      <td>0439886341</td>\n",
              "      <td>1.0</td>\n",
              "      <td>1334707200</td>\n",
              "    </tr>\n",
              "    <tr>\n",
              "      <th>4</th>\n",
              "      <td>A1QGNMC6O1VW39</td>\n",
              "      <td>0511189877</td>\n",
              "      <td>5.0</td>\n",
              "      <td>1397433600</td>\n",
              "    </tr>\n",
              "  </tbody>\n",
              "</table>\n",
              "</div>"
            ],
            "text/plain": [
              "           UserId   ProductId  Rating          TS\n",
              "0  A2CX7LUOHB2NDG  0321732944     5.0  1341100800\n",
              "1  A2NWSAGRHCP8N5  0439886341     1.0  1367193600\n",
              "2  A2WNBOD3WNDNKT  0439886341     3.0  1374451200\n",
              "3  A1GI0U4ZRJA8WN  0439886341     1.0  1334707200\n",
              "4  A1QGNMC6O1VW39  0511189877     5.0  1397433600"
            ]
          },
          "metadata": {
            "tags": []
          },
          "execution_count": 21
        }
      ]
    },
    {
      "cell_type": "code",
      "metadata": {
        "id": "-zGviM_19Z9T",
        "colab_type": "code",
        "colab": {}
      },
      "source": [
        "df = df[[\"UserId\",\"ProductId\",\"Rating\"]]"
      ],
      "execution_count": 0,
      "outputs": []
    },
    {
      "cell_type": "code",
      "metadata": {
        "id": "x3TQNeho-RAy",
        "colab_type": "code",
        "outputId": "7c55877d-0729-4dfa-9178-ad9a98a39c7f",
        "colab": {
          "base_uri": "https://localhost:8080/",
          "height": 204
        }
      },
      "source": [
        "df.head()"
      ],
      "execution_count": 0,
      "outputs": [
        {
          "output_type": "execute_result",
          "data": {
            "text/html": [
              "<div>\n",
              "<style scoped>\n",
              "    .dataframe tbody tr th:only-of-type {\n",
              "        vertical-align: middle;\n",
              "    }\n",
              "\n",
              "    .dataframe tbody tr th {\n",
              "        vertical-align: top;\n",
              "    }\n",
              "\n",
              "    .dataframe thead th {\n",
              "        text-align: right;\n",
              "    }\n",
              "</style>\n",
              "<table border=\"1\" class=\"dataframe\">\n",
              "  <thead>\n",
              "    <tr style=\"text-align: right;\">\n",
              "      <th></th>\n",
              "      <th>UserId</th>\n",
              "      <th>ProductId</th>\n",
              "      <th>Rating</th>\n",
              "    </tr>\n",
              "  </thead>\n",
              "  <tbody>\n",
              "    <tr>\n",
              "      <th>0</th>\n",
              "      <td>A2CX7LUOHB2NDG</td>\n",
              "      <td>0321732944</td>\n",
              "      <td>5.0</td>\n",
              "    </tr>\n",
              "    <tr>\n",
              "      <th>1</th>\n",
              "      <td>A2NWSAGRHCP8N5</td>\n",
              "      <td>0439886341</td>\n",
              "      <td>1.0</td>\n",
              "    </tr>\n",
              "    <tr>\n",
              "      <th>2</th>\n",
              "      <td>A2WNBOD3WNDNKT</td>\n",
              "      <td>0439886341</td>\n",
              "      <td>3.0</td>\n",
              "    </tr>\n",
              "    <tr>\n",
              "      <th>3</th>\n",
              "      <td>A1GI0U4ZRJA8WN</td>\n",
              "      <td>0439886341</td>\n",
              "      <td>1.0</td>\n",
              "    </tr>\n",
              "    <tr>\n",
              "      <th>4</th>\n",
              "      <td>A1QGNMC6O1VW39</td>\n",
              "      <td>0511189877</td>\n",
              "      <td>5.0</td>\n",
              "    </tr>\n",
              "  </tbody>\n",
              "</table>\n",
              "</div>"
            ],
            "text/plain": [
              "           UserId   ProductId  Rating\n",
              "0  A2CX7LUOHB2NDG  0321732944     5.0\n",
              "1  A2NWSAGRHCP8N5  0439886341     1.0\n",
              "2  A2WNBOD3WNDNKT  0439886341     3.0\n",
              "3  A1GI0U4ZRJA8WN  0439886341     1.0\n",
              "4  A1QGNMC6O1VW39  0511189877     5.0"
            ]
          },
          "metadata": {
            "tags": []
          },
          "execution_count": 23
        }
      ]
    },
    {
      "cell_type": "markdown",
      "metadata": {
        "_cell_guid": "82a65d1c-2d52-46d2-a2f9-cc201291af9f",
        "_uuid": "ae1d01a87f5423c152ee14df074f4a6da0f508fc",
        "id": "kNXejsEaPe0c",
        "colab_type": "text"
      },
      "source": [
        "\n",
        "<h3> Deliverable - 1 : EDA : Exploring the Basics </h3>\n",
        "\n",
        "## a. Univariate analysis"
      ]
    },
    {
      "cell_type": "markdown",
      "metadata": {
        "id": "MnqxJABPqOuf",
        "colab_type": "text"
      },
      "source": [
        "<h3> Exploring the Basics </h3>\n",
        "<a id=\"overall_analysis\"></a>\n",
        "## Summary:\n",
        "\n",
        "<table>\n",
        "<tbody>\n",
        "<tr>\n",
        "<td style=\"width: 85px;\"><strong>Column Name</strong></td>\n",
        "<td style=\"width: 104px;\"><strong>Value Missing(y/n)</strong></td>\n",
        "<td style=\"width: 61px;\"><strong>How many missing value?</strong></td>\n",
        "<td style=\"width: 42px;\"><strong>Mean</strong></td>\n",
        "<td style=\"width: 34px;\"><strong>Min.</strong></td>\n",
        "<td style=\"width: 38px;\"><strong>Max.</strong></td>\n",
        "<td style=\"width: 38px;\"><strong>50%</strong></td>\n",
        "<td style=\"width: 79px;\"><strong>Skewness</strong></td>\n",
        "<td style=\"width: 83px;\"><strong>Inpdenent / Target?</strong></td>\n",
        "<td style=\"width: 83px;\"><strong>Continuous / Discrete?</strong></td>\n",
        "</tr>\n",
        "<tr>\n",
        "<td style=\"width: 85px;\">cement</td>\n",
        "<td style=\"width: 104px;\">N</td>\n",
        "<td style=\"width: 61px;\">0</td>\n",
        "<td style=\"width: 42px;\">281.167864&nbsp;</td>\n",
        "<td style=\"width: 34px;\">&nbsp;102.00</td>\n",
        "<td style=\"width: 38px;\">540.0&nbsp;</td>\n",
        "<td style=\"width: 38px;\">272.900</td>\n",
        "<td style=\"width: 79px;\">Right</td>\n",
        "<td style=\"width: 83px;\">Independent&nbsp;</td>\n",
        "<td style=\"width: 83px;\">Continuous&nbsp;</td>\n",
        "</tr>\n",
        "<tr>\n",
        "<td style=\"width: 85px;\">slag</td>\n",
        "<td style=\"width: 104px;\">N&nbsp;</td>\n",
        "<td style=\"width: 61px;\">0&nbsp;</td>\n",
        "<td style=\"width: 42px;\">&nbsp;73.895825</td>\n",
        "<td style=\"width: 34px;\">0</td>\n",
        "<td style=\"width: 38px;\">359.4&nbsp;</td>\n",
        "<td style=\"width: 38px;\">22.000&nbsp;</td>\n",
        "<td style=\"width: 79px;\">Right&nbsp;</td>\n",
        "<td style=\"width: 83px;\">Independent&nbsp;</td>\n",
        " <td style=\"width: 83px;\">Continuous&nbsp;</td>\n",
        "</tr>\n",
        "<tr>\n",
        "<td style=\"width: 85px;\">ash</td>\n",
        "<td style=\"width: 104px;\">N&nbsp;</td>\n",
        "<td style=\"width: 61px;\">0&nbsp;</td>\n",
        "<td style=\"width: 42px;\">54.188350&nbsp;</td>\n",
        "<td style=\"width: 34px;\">0.00</td>\n",
        "<td style=\"width: 38px;\">200.1&nbsp;</td>\n",
        "<td style=\"width: 38px;\">0.000&nbsp;</td>\n",
        "<td style=\"width: 79px;\">Right&nbsp;</td>\n",
        "<td style=\"width: 83px;\">Independent&nbsp;</td>\n",
        " <td style=\"width: 83px;\">Continuous&nbsp;</td>\n",
        "</tr>\n",
        "<tr>\n",
        "<td style=\"width: 85px;\">water</td>\n",
        "<td style=\"width: 104px;\">N&nbsp;</td>\n",
        "<td style=\"width: 61px;\">0&nbsp;</td>\n",
        "<td style=\"width: 42px;\">&nbsp;181.567282</td>\n",
        "<td style=\"width: 34px;\">121.80</td>\n",
        "<td style=\"width: 38px;\">247.0</td>\n",
        "<td style=\"width: 38px;\">185.000</td>\n",
        "<td style=\"width: 79px;\">Right</td>\n",
        "<td style=\"width: 83px;\">Independent&nbsp;</td>\n",
        "  <td style=\"width: 83px;\">Continuous&nbsp;</td>\n",
        "</tr>\n",
        "<tr>\n",
        "<td style=\"width: 85px;\">superplastic</td>\n",
        "<td style=\"width: 104px;\">N&nbsp;</td>\n",
        "<td style=\"width: 61px;\">0&nbsp;</td>\n",
        "<td style=\"width: 42px;\">&nbsp;6.204660</td>\n",
        "<td style=\"width: 34px;\">0</td>\n",
        "<td style=\"width: 38px;\">32.2</td>\n",
        "<td style=\"width: 38px;\">6.400</td>\n",
        "<td style=\"width: 79px;\">Left&nbsp;</td>\n",
        "<td style=\"width: 83px;\">Independent&nbsp;</td>\n",
        "  <td style=\"width: 83px;\">Continuous&nbsp;</td>\n",
        "</tr>\n",
        "<tr>\n",
        "<td style=\"width: 85px;\">coarseagg</td>\n",
        "<td style=\"width: 104px;\">N&nbsp;</td>\n",
        "<td style=\"width: 61px;\">0&nbsp;</td>\n",
        "<td style=\"width: 42px;\">&nbsp;972.918932</td>\n",
        "<td style=\"width: 34px;\">801.00</td>\n",
        "<td style=\"width: 38px;\">1145.0</td>\n",
        "<td style=\"width: 38px;\">&nbsp;968.000</td>\n",
        "<td style=\"width: 79px;\">Right&nbsp;</td>\n",
        "<td style=\"width: 83px;\">Independent&nbsp;</td>\n",
        "  <td style=\"width: 83px;\">Continuous&nbsp;</td>\n",
        "</tr>\n",
        "<tr>\n",
        "<td style=\"width: 85px;\">fineagg</td>\n",
        "<td style=\"width: 104px;\">N&nbsp;</td>\n",
        "<td style=\"width: 61px;\">0&nbsp;</td>\n",
        "<td style=\"width: 42px;\">&nbsp;773.580485</td>\n",
        "<td style=\"width: 34px;\">594.00</td>\n",
        "<td style=\"width: 38px;\">992.6</td>\n",
        "<td style=\"width: 38px;\">779.500</td>\n",
        "<td style=\"width: 79px;\">Left</td>\n",
        "<td style=\"width: 83px;\">Independent&nbsp;</td>\n",
        "  <td style=\"width: 83px;\">Continuous&nbsp;</td>\n",
        "</tr>\n",
        "<tr>\n",
        "<td style=\"width: 85px;\">age</td>\n",
        "<td style=\"width: 104px;\">N&nbsp;</td>\n",
        "<td style=\"width: 61px;\">0&nbsp;</td>\n",
        "<td style=\"width: 42px;\">&nbsp;45.662136</td>\n",
        "<td style=\"width: 34px;\">1</td>\n",
        "<td style=\"width: 38px;\">365.0</td>\n",
        "<td style=\"width: 38px;\">28.000</td>\n",
        "<td style=\"width: 79px;\">Right&nbsp;</td>\n",
        "<td style=\"width: 83px;\">Independent&nbsp;</td>\n",
        "  <td style=\"width: 83px;\">Continuous&nbsp;</td>\n",
        "</tr>\n",
        "<tr>\n",
        "<td style=\"width: 85px;\">strength</td>\n",
        "<td style=\"width: 104px;\">N&nbsp;</td>\n",
        "<td style=\"width: 61px;\">0&nbsp;</td>\n",
        "<td style=\"width: 42px;\">&nbsp;35.817961</td>\n",
        "<td style=\"width: 34px;\">&nbsp;2.33</td>\n",
        "<td style=\"width: 38px;\">&nbsp;82.6</td>\n",
        "<td style=\"width: 38px;\">34.445&nbsp;</td>\n",
        "<td style=\"width: 79px;\">Right&nbsp;</td>\n",
        "<td style=\"width: 83px;\">Target&nbsp;</td>\n",
        "  <td style=\"width: 83px;\">Continuous&nbsp;</td>\n",
        "</tr>\n",
        "<tr>\n",
        "<td style=\"width: 85px;\">&nbsp;</td>\n",
        "<td style=\"width: 104px;\">&nbsp;</td>\n",
        "<td style=\"width: 61px;\">&nbsp;</td>\n",
        "<td style=\"width: 42px;\">&nbsp;</td>\n",
        "<td style=\"width: 34px;\">&nbsp;</td>\n",
        "<td style=\"width: 38px;\">&nbsp;</td>\n",
        "<td style=\"width: 38px;\">&nbsp;</td>\n",
        "<td style=\"width: 79px;\">&nbsp;</td>\n",
        "<td style=\"width: 83px;\">&nbsp;</td>\n",
        "  <td style=\"width: 83px;\">Continuous&nbsp;</td>\n",
        "</tr>\n",
        "</tbody>\n",
        "</table>"
      ]
    },
    {
      "cell_type": "code",
      "metadata": {
        "_cell_guid": "49bb0e1d-ea5d-43fb-a62e-89ec2cf0248e",
        "_kg_hide-input": true,
        "_uuid": "001b540f01383cdf4817cf2a3ae1d0467a35bf0d",
        "id": "cidiSDAmPe0f",
        "colab_type": "code",
        "outputId": "c666d5af-e53e-4561-aab6-491c880be865",
        "colab": {
          "base_uri": "https://localhost:8080/",
          "height": 80
        }
      },
      "source": [
        "df.describe().transpose()"
      ],
      "execution_count": 0,
      "outputs": [
        {
          "output_type": "execute_result",
          "data": {
            "text/html": [
              "<div>\n",
              "<style scoped>\n",
              "    .dataframe tbody tr th:only-of-type {\n",
              "        vertical-align: middle;\n",
              "    }\n",
              "\n",
              "    .dataframe tbody tr th {\n",
              "        vertical-align: top;\n",
              "    }\n",
              "\n",
              "    .dataframe thead th {\n",
              "        text-align: right;\n",
              "    }\n",
              "</style>\n",
              "<table border=\"1\" class=\"dataframe\">\n",
              "  <thead>\n",
              "    <tr style=\"text-align: right;\">\n",
              "      <th></th>\n",
              "      <th>count</th>\n",
              "      <th>mean</th>\n",
              "      <th>std</th>\n",
              "      <th>min</th>\n",
              "      <th>25%</th>\n",
              "      <th>50%</th>\n",
              "      <th>75%</th>\n",
              "      <th>max</th>\n",
              "    </tr>\n",
              "  </thead>\n",
              "  <tbody>\n",
              "    <tr>\n",
              "      <th>Rating</th>\n",
              "      <td>7824481.0</td>\n",
              "      <td>4.012337</td>\n",
              "      <td>1.38091</td>\n",
              "      <td>1.0</td>\n",
              "      <td>3.0</td>\n",
              "      <td>5.0</td>\n",
              "      <td>5.0</td>\n",
              "      <td>5.0</td>\n",
              "    </tr>\n",
              "  </tbody>\n",
              "</table>\n",
              "</div>"
            ],
            "text/plain": [
              "            count      mean      std  min  25%  50%  75%  max\n",
              "Rating  7824481.0  4.012337  1.38091  1.0  3.0  5.0  5.0  5.0"
            ]
          },
          "metadata": {
            "tags": []
          },
          "execution_count": 24
        }
      ]
    },
    {
      "cell_type": "markdown",
      "metadata": {
        "_cell_guid": "22f978f6-39e7-45ea-8061-04b23bce004c",
        "_uuid": "b881241ef51fdc4fd3f59b245b78afe2c60bf796",
        "id": "Z1iF0Lu7Pe0n",
        "colab_type": "text"
      },
      "source": [
        "Fortunately, there are no <b>missing values</b>. If there were missing values we will have to fill them with the median, mean or mode. I tend to use the median but in this scenario there is no need to fill any missing values. But there are Zero for ash for more than 50% of data. Need to see how to handle the same. Or whether handling of Zero for ash is required or not."
      ]
    },
    {
      "cell_type": "code",
      "metadata": {
        "_cell_guid": "0bf2d612-22d9-4263-997f-7842032223d4",
        "_kg_hide-input": true,
        "_uuid": "1bce354de17ec340c6e9fe7f9aff1b7ffaeef823",
        "id": "ENMeKT5KPe0q",
        "colab_type": "code",
        "outputId": "acc03939-f4e1-4c6c-97b0-8551d244afb7",
        "colab": {
          "base_uri": "https://localhost:8080/",
          "height": 153
        }
      },
      "source": [
        "# No missing values.\n",
        "df.info()"
      ],
      "execution_count": 0,
      "outputs": [
        {
          "output_type": "stream",
          "text": [
            "<class 'pandas.core.frame.DataFrame'>\n",
            "RangeIndex: 7824481 entries, 0 to 7824480\n",
            "Data columns (total 3 columns):\n",
            "UserId       object\n",
            "ProductId    object\n",
            "Rating       float64\n",
            "dtypes: float64(1), object(2)\n",
            "memory usage: 179.1+ MB\n"
          ],
          "name": "stdout"
        }
      ]
    },
    {
      "cell_type": "code",
      "metadata": {
        "id": "5r-rw2IGy-Xj",
        "colab_type": "code",
        "outputId": "0510e9bc-ce62-44ca-d1df-084fec38894c",
        "colab": {
          "base_uri": "https://localhost:8080/",
          "height": 85
        }
      },
      "source": [
        "# There are no blanks\n",
        "df.isnull().any()"
      ],
      "execution_count": 0,
      "outputs": [
        {
          "output_type": "execute_result",
          "data": {
            "text/plain": [
              "UserId       False\n",
              "ProductId    False\n",
              "Rating       False\n",
              "dtype: bool"
            ]
          },
          "metadata": {
            "tags": []
          },
          "execution_count": 26
        }
      ]
    },
    {
      "cell_type": "code",
      "metadata": {
        "_cell_guid": "10648601-36e1-464f-83e0-040b59326d1e",
        "_kg_hide-input": true,
        "_uuid": "92706f68c12026775143ec8b6f200cc94f739edd",
        "id": "JU6R4WFYPe1B",
        "colab_type": "code",
        "outputId": "5e20696e-b910-47a6-c828-d5b752e0c370",
        "colab": {
          "base_uri": "https://localhost:8080/",
          "height": 603
        }
      },
      "source": [
        "# Let's see how the numeric data is distributed.\n",
        "import matplotlib.pyplot as plt\n",
        "plt.style.use('seaborn-whitegrid')\n",
        "\n",
        "df.hist(bins=20, figsize=(14,10), color='#E14906')\n",
        "plt.show()"
      ],
      "execution_count": 0,
      "outputs": [
        {
          "output_type": "display_data",
          "data": {
            "image/png": "[encoded data removed]",
            "text/plain": [
              "<Figure size 1008x720 with 1 Axes>"
            ]
          },
          "metadata": {
            "tags": []
          }
        }
      ]
    },
    {
      "cell_type": "code",
      "metadata": {
        "_uuid": "869d4858016402b8a8cd0c6eff5317a59ee3415e",
        "id": "Pj9t32y_Pe1J",
        "colab_type": "code",
        "outputId": "e11df800-729b-413f-f79c-12a23073b27d",
        "colab": {
          "base_uri": "https://localhost:8080/",
          "height": 85
        }
      },
      "source": [
        "#df['strength'].value_counts()\n",
        "\n",
        "#to check number of unique values in each column\n",
        "df.apply(lambda x: len(x.unique()))"
      ],
      "execution_count": 0,
      "outputs": [
        {
          "output_type": "execute_result",
          "data": {
            "text/plain": [
              "UserId       4201696\n",
              "ProductId     476001\n",
              "Rating             5\n",
              "dtype: int64"
            ]
          },
          "metadata": {
            "tags": []
          },
          "execution_count": 28
        }
      ]
    },
    {
      "cell_type": "markdown",
      "metadata": {
        "id": "WvREsJ5vY2H3",
        "colab_type": "text"
      },
      "source": [
        "## Observation : So we have 4.2M users, 476k Products and Upto to 5 Ratings"
      ]
    },
    {
      "cell_type": "code",
      "metadata": {
        "id": "XIM3tZKFAy1x",
        "colab_type": "code",
        "outputId": "2c064dad-85b9-459e-e9c7-db286d4a4ab9",
        "colab": {
          "base_uri": "https://localhost:8080/",
          "height": 235
        }
      },
      "source": [
        "Groupby_Rating = df.groupby(['Rating']).count()\n",
        "Groupby_Rating.head()"
      ],
      "execution_count": 0,
      "outputs": [
        {
          "output_type": "execute_result",
          "data": {
            "text/html": [
              "<div>\n",
              "<style scoped>\n",
              "    .dataframe tbody tr th:only-of-type {\n",
              "        vertical-align: middle;\n",
              "    }\n",
              "\n",
              "    .dataframe tbody tr th {\n",
              "        vertical-align: top;\n",
              "    }\n",
              "\n",
              "    .dataframe thead th {\n",
              "        text-align: right;\n",
              "    }\n",
              "</style>\n",
              "<table border=\"1\" class=\"dataframe\">\n",
              "  <thead>\n",
              "    <tr style=\"text-align: right;\">\n",
              "      <th></th>\n",
              "      <th>UserId</th>\n",
              "      <th>ProductId</th>\n",
              "    </tr>\n",
              "    <tr>\n",
              "      <th>Rating</th>\n",
              "      <th></th>\n",
              "      <th></th>\n",
              "    </tr>\n",
              "  </thead>\n",
              "  <tbody>\n",
              "    <tr>\n",
              "      <th>1.0</th>\n",
              "      <td>901765</td>\n",
              "      <td>901765</td>\n",
              "    </tr>\n",
              "    <tr>\n",
              "      <th>2.0</th>\n",
              "      <td>456322</td>\n",
              "      <td>456322</td>\n",
              "    </tr>\n",
              "    <tr>\n",
              "      <th>3.0</th>\n",
              "      <td>633073</td>\n",
              "      <td>633073</td>\n",
              "    </tr>\n",
              "    <tr>\n",
              "      <th>4.0</th>\n",
              "      <td>1485781</td>\n",
              "      <td>1485781</td>\n",
              "    </tr>\n",
              "    <tr>\n",
              "      <th>5.0</th>\n",
              "      <td>4347540</td>\n",
              "      <td>4347540</td>\n",
              "    </tr>\n",
              "  </tbody>\n",
              "</table>\n",
              "</div>"
            ],
            "text/plain": [
              "         UserId  ProductId\n",
              "Rating                    \n",
              "1.0      901765     901765\n",
              "2.0      456322     456322\n",
              "3.0      633073     633073\n",
              "4.0     1485781    1485781\n",
              "5.0     4347540    4347540"
            ]
          },
          "metadata": {
            "tags": []
          },
          "execution_count": 29
        }
      ]
    },
    {
      "cell_type": "code",
      "metadata": {
        "id": "okCczduEJox1",
        "colab_type": "code",
        "outputId": "073a64f2-9031-4675-c33c-7fa1ed002b03",
        "colab": {
          "base_uri": "https://localhost:8080/",
          "height": 204
        }
      },
      "source": [
        "Groupby_Product_Count = df.groupby(\"ProductId\", as_index=False).count()\n",
        "Groupby_Product_Mean = df.groupby(\"ProductId\", as_index=False).mean()\n",
        "df_Merged = pd.merge(df, Groupby_Product_Count, how='right', on=['ProductId'])\n",
        "df_Merged.head()"
      ],
      "execution_count": 0,
      "outputs": [
        {
          "output_type": "execute_result",
          "data": {
            "text/html": [
              "<div>\n",
              "<style scoped>\n",
              "    .dataframe tbody tr th:only-of-type {\n",
              "        vertical-align: middle;\n",
              "    }\n",
              "\n",
              "    .dataframe tbody tr th {\n",
              "        vertical-align: top;\n",
              "    }\n",
              "\n",
              "    .dataframe thead th {\n",
              "        text-align: right;\n",
              "    }\n",
              "</style>\n",
              "<table border=\"1\" class=\"dataframe\">\n",
              "  <thead>\n",
              "    <tr style=\"text-align: right;\">\n",
              "      <th></th>\n",
              "      <th>UserId_x</th>\n",
              "      <th>ProductId</th>\n",
              "      <th>Rating_x</th>\n",
              "      <th>UserId_y</th>\n",
              "      <th>Rating_y</th>\n",
              "    </tr>\n",
              "  </thead>\n",
              "  <tbody>\n",
              "    <tr>\n",
              "      <th>0</th>\n",
              "      <td>A2CX7LUOHB2NDG</td>\n",
              "      <td>0321732944</td>\n",
              "      <td>5.0</td>\n",
              "      <td>1</td>\n",
              "      <td>1</td>\n",
              "    </tr>\n",
              "    <tr>\n",
              "      <th>1</th>\n",
              "      <td>A2NWSAGRHCP8N5</td>\n",
              "      <td>0439886341</td>\n",
              "      <td>1.0</td>\n",
              "      <td>3</td>\n",
              "      <td>3</td>\n",
              "    </tr>\n",
              "    <tr>\n",
              "      <th>2</th>\n",
              "      <td>A2WNBOD3WNDNKT</td>\n",
              "      <td>0439886341</td>\n",
              "      <td>3.0</td>\n",
              "      <td>3</td>\n",
              "      <td>3</td>\n",
              "    </tr>\n",
              "    <tr>\n",
              "      <th>3</th>\n",
              "      <td>A1GI0U4ZRJA8WN</td>\n",
              "      <td>0439886341</td>\n",
              "      <td>1.0</td>\n",
              "      <td>3</td>\n",
              "      <td>3</td>\n",
              "    </tr>\n",
              "    <tr>\n",
              "      <th>4</th>\n",
              "      <td>A1QGNMC6O1VW39</td>\n",
              "      <td>0511189877</td>\n",
              "      <td>5.0</td>\n",
              "      <td>6</td>\n",
              "      <td>6</td>\n",
              "    </tr>\n",
              "  </tbody>\n",
              "</table>\n",
              "</div>"
            ],
            "text/plain": [
              "         UserId_x   ProductId  Rating_x  UserId_y  Rating_y\n",
              "0  A2CX7LUOHB2NDG  0321732944       5.0         1         1\n",
              "1  A2NWSAGRHCP8N5  0439886341       1.0         3         3\n",
              "2  A2WNBOD3WNDNKT  0439886341       3.0         3         3\n",
              "3  A1GI0U4ZRJA8WN  0439886341       1.0         3         3\n",
              "4  A1QGNMC6O1VW39  0511189877       5.0         6         6"
            ]
          },
          "metadata": {
            "tags": []
          },
          "execution_count": 30
        }
      ]
    },
    {
      "cell_type": "code",
      "metadata": {
        "id": "j-ogi_aKOF3I",
        "colab_type": "code",
        "colab": {}
      },
      "source": [
        "#rename column\n",
        "df_Merged[\"UserId\"] = df_Merged[\"UserId_x\"]\n",
        "df_Merged[\"Rating\"] = df_Merged[\"Rating_x\"]\n",
        "df_Merged[\"UserId_count\"] = df_Merged[\"UserId_y\"]\n",
        "df_Merged[\"Rating_count\"] = df_Merged[\"Rating_y\"]\n",
        "\n",
        "dfNew = df_Merged[['UserId','ProductId','Rating',\"UserId_count\",\"Rating_count\"]]"
      ],
      "execution_count": 0,
      "outputs": []
    },
    {
      "cell_type": "markdown",
      "metadata": {
        "id": "dXEgAfk0Pdy1",
        "colab_type": "text"
      },
      "source": [
        "## Selecting products which have more than 50 reviews for further analysis"
      ]
    },
    {
      "cell_type": "code",
      "metadata": {
        "id": "l1ra5qgQPcgF",
        "colab_type": "code",
        "outputId": "6c252526-d51d-4816-820b-e58e65cf04bf",
        "colab": {
          "base_uri": "https://localhost:8080/",
          "height": 1000
        }
      },
      "source": [
        "dfNew = dfNew.sort_values(by='UserId_count', ascending=False)\n",
        "dfCount1 = dfNew[dfNew.UserId_count >= 50]\n",
        "dfCount1"
      ],
      "execution_count": 0,
      "outputs": [
        {
          "output_type": "execute_result",
          "data": {
            "text/html": [
              "<div>\n",
              "<style scoped>\n",
              "    .dataframe tbody tr th:only-of-type {\n",
              "        vertical-align: middle;\n",
              "    }\n",
              "\n",
              "    .dataframe tbody tr th {\n",
              "        vertical-align: top;\n",
              "    }\n",
              "\n",
              "    .dataframe thead th {\n",
              "        text-align: right;\n",
              "    }\n",
              "</style>\n",
              "<table border=\"1\" class=\"dataframe\">\n",
              "  <thead>\n",
              "    <tr style=\"text-align: right;\">\n",
              "      <th></th>\n",
              "      <th>UserId</th>\n",
              "      <th>ProductId</th>\n",
              "      <th>Rating</th>\n",
              "      <th>UserId_count</th>\n",
              "      <th>Rating_count</th>\n",
              "    </tr>\n",
              "  </thead>\n",
              "  <tbody>\n",
              "    <tr>\n",
              "      <th>5606371</th>\n",
              "      <td>A2BPZ5E8LZI8UC</td>\n",
              "      <td>B0074BW614</td>\n",
              "      <td>5.0</td>\n",
              "      <td>18244</td>\n",
              "      <td>18244</td>\n",
              "    </tr>\n",
              "    <tr>\n",
              "      <th>5596987</th>\n",
              "      <td>A1LFIYSN3U0WGZ</td>\n",
              "      <td>B0074BW614</td>\n",
              "      <td>5.0</td>\n",
              "      <td>18244</td>\n",
              "      <td>18244</td>\n",
              "    </tr>\n",
              "    <tr>\n",
              "      <th>5596971</th>\n",
              "      <td>AHPX71LWPYX04</td>\n",
              "      <td>B0074BW614</td>\n",
              "      <td>4.0</td>\n",
              "      <td>18244</td>\n",
              "      <td>18244</td>\n",
              "    </tr>\n",
              "    <tr>\n",
              "      <th>5596972</th>\n",
              "      <td>AQ33D1F0YJWXD</td>\n",
              "      <td>B0074BW614</td>\n",
              "      <td>1.0</td>\n",
              "      <td>18244</td>\n",
              "      <td>18244</td>\n",
              "    </tr>\n",
              "    <tr>\n",
              "      <th>5596973</th>\n",
              "      <td>A3CK4QWTFLRTBB</td>\n",
              "      <td>B0074BW614</td>\n",
              "      <td>5.0</td>\n",
              "      <td>18244</td>\n",
              "      <td>18244</td>\n",
              "    </tr>\n",
              "    <tr>\n",
              "      <th>5596974</th>\n",
              "      <td>AX1YPL8L9D51K</td>\n",
              "      <td>B0074BW614</td>\n",
              "      <td>2.0</td>\n",
              "      <td>18244</td>\n",
              "      <td>18244</td>\n",
              "    </tr>\n",
              "    <tr>\n",
              "      <th>5596975</th>\n",
              "      <td>A2JFB3BGEESSQ0</td>\n",
              "      <td>B0074BW614</td>\n",
              "      <td>3.0</td>\n",
              "      <td>18244</td>\n",
              "      <td>18244</td>\n",
              "    </tr>\n",
              "    <tr>\n",
              "      <th>5596976</th>\n",
              "      <td>AU0GRX1XX4Z6G</td>\n",
              "      <td>B0074BW614</td>\n",
              "      <td>5.0</td>\n",
              "      <td>18244</td>\n",
              "      <td>18244</td>\n",
              "    </tr>\n",
              "    <tr>\n",
              "      <th>5596977</th>\n",
              "      <td>A1ZH30WFAA1TDW</td>\n",
              "      <td>B0074BW614</td>\n",
              "      <td>5.0</td>\n",
              "      <td>18244</td>\n",
              "      <td>18244</td>\n",
              "    </tr>\n",
              "    <tr>\n",
              "      <th>5596978</th>\n",
              "      <td>A3VUNF8AE7N0CD</td>\n",
              "      <td>B0074BW614</td>\n",
              "      <td>5.0</td>\n",
              "      <td>18244</td>\n",
              "      <td>18244</td>\n",
              "    </tr>\n",
              "    <tr>\n",
              "      <th>5596979</th>\n",
              "      <td>A32JMC4YTOPKCR</td>\n",
              "      <td>B0074BW614</td>\n",
              "      <td>5.0</td>\n",
              "      <td>18244</td>\n",
              "      <td>18244</td>\n",
              "    </tr>\n",
              "    <tr>\n",
              "      <th>5596980</th>\n",
              "      <td>AXJOK8KXSBUKK</td>\n",
              "      <td>B0074BW614</td>\n",
              "      <td>3.0</td>\n",
              "      <td>18244</td>\n",
              "      <td>18244</td>\n",
              "    </tr>\n",
              "    <tr>\n",
              "      <th>5596981</th>\n",
              "      <td>ACPUBRZGH1ZB0</td>\n",
              "      <td>B0074BW614</td>\n",
              "      <td>5.0</td>\n",
              "      <td>18244</td>\n",
              "      <td>18244</td>\n",
              "    </tr>\n",
              "    <tr>\n",
              "      <th>5596982</th>\n",
              "      <td>AWJ82J3R05O5G</td>\n",
              "      <td>B0074BW614</td>\n",
              "      <td>5.0</td>\n",
              "      <td>18244</td>\n",
              "      <td>18244</td>\n",
              "    </tr>\n",
              "    <tr>\n",
              "      <th>5596983</th>\n",
              "      <td>A3NVCGVOBWJ2NL</td>\n",
              "      <td>B0074BW614</td>\n",
              "      <td>4.0</td>\n",
              "      <td>18244</td>\n",
              "      <td>18244</td>\n",
              "    </tr>\n",
              "    <tr>\n",
              "      <th>5596984</th>\n",
              "      <td>A29QV5AKIGN85N</td>\n",
              "      <td>B0074BW614</td>\n",
              "      <td>3.0</td>\n",
              "      <td>18244</td>\n",
              "      <td>18244</td>\n",
              "    </tr>\n",
              "    <tr>\n",
              "      <th>5596985</th>\n",
              "      <td>A29WHFXN2RRHAY</td>\n",
              "      <td>B0074BW614</td>\n",
              "      <td>3.0</td>\n",
              "      <td>18244</td>\n",
              "      <td>18244</td>\n",
              "    </tr>\n",
              "    <tr>\n",
              "      <th>5596970</th>\n",
              "      <td>ASNNCGGSOZ8PT</td>\n",
              "      <td>B0074BW614</td>\n",
              "      <td>5.0</td>\n",
              "      <td>18244</td>\n",
              "      <td>18244</td>\n",
              "    </tr>\n",
              "    <tr>\n",
              "      <th>5596969</th>\n",
              "      <td>AMM8M3KJFM0DS</td>\n",
              "      <td>B0074BW614</td>\n",
              "      <td>5.0</td>\n",
              "      <td>18244</td>\n",
              "      <td>18244</td>\n",
              "    </tr>\n",
              "    <tr>\n",
              "      <th>5596968</th>\n",
              "      <td>A1FE61EX2BD8HR</td>\n",
              "      <td>B0074BW614</td>\n",
              "      <td>5.0</td>\n",
              "      <td>18244</td>\n",
              "      <td>18244</td>\n",
              "    </tr>\n",
              "    <tr>\n",
              "      <th>5596959</th>\n",
              "      <td>A1MXEX7O2LOGE8</td>\n",
              "      <td>B0074BW614</td>\n",
              "      <td>5.0</td>\n",
              "      <td>18244</td>\n",
              "      <td>18244</td>\n",
              "    </tr>\n",
              "    <tr>\n",
              "      <th>5596953</th>\n",
              "      <td>A3Q9LNYI5B2U6P</td>\n",
              "      <td>B0074BW614</td>\n",
              "      <td>5.0</td>\n",
              "      <td>18244</td>\n",
              "      <td>18244</td>\n",
              "    </tr>\n",
              "    <tr>\n",
              "      <th>5596954</th>\n",
              "      <td>A325SQG9TVY9AO</td>\n",
              "      <td>B0074BW614</td>\n",
              "      <td>5.0</td>\n",
              "      <td>18244</td>\n",
              "      <td>18244</td>\n",
              "    </tr>\n",
              "    <tr>\n",
              "      <th>5596955</th>\n",
              "      <td>AZ5MJN0IKWR4U</td>\n",
              "      <td>B0074BW614</td>\n",
              "      <td>5.0</td>\n",
              "      <td>18244</td>\n",
              "      <td>18244</td>\n",
              "    </tr>\n",
              "    <tr>\n",
              "      <th>5596956</th>\n",
              "      <td>A2MMD3TOW20ZOT</td>\n",
              "      <td>B0074BW614</td>\n",
              "      <td>5.0</td>\n",
              "      <td>18244</td>\n",
              "      <td>18244</td>\n",
              "    </tr>\n",
              "    <tr>\n",
              "      <th>5596957</th>\n",
              "      <td>A2LSZFEFTDRDIJ</td>\n",
              "      <td>B0074BW614</td>\n",
              "      <td>5.0</td>\n",
              "      <td>18244</td>\n",
              "      <td>18244</td>\n",
              "    </tr>\n",
              "    <tr>\n",
              "      <th>5596958</th>\n",
              "      <td>A1TD7ON8NGKDKX</td>\n",
              "      <td>B0074BW614</td>\n",
              "      <td>5.0</td>\n",
              "      <td>18244</td>\n",
              "      <td>18244</td>\n",
              "    </tr>\n",
              "    <tr>\n",
              "      <th>5596960</th>\n",
              "      <td>A3A0EVURCECX0H</td>\n",
              "      <td>B0074BW614</td>\n",
              "      <td>4.0</td>\n",
              "      <td>18244</td>\n",
              "      <td>18244</td>\n",
              "    </tr>\n",
              "    <tr>\n",
              "      <th>5596967</th>\n",
              "      <td>A2EQ8P6MA55G1M</td>\n",
              "      <td>B0074BW614</td>\n",
              "      <td>5.0</td>\n",
              "      <td>18244</td>\n",
              "      <td>18244</td>\n",
              "    </tr>\n",
              "    <tr>\n",
              "      <th>5596961</th>\n",
              "      <td>AKPVY9WW0SZ8I</td>\n",
              "      <td>B0074BW614</td>\n",
              "      <td>5.0</td>\n",
              "      <td>18244</td>\n",
              "      <td>18244</td>\n",
              "    </tr>\n",
              "    <tr>\n",
              "      <th>...</th>\n",
              "      <td>...</td>\n",
              "      <td>...</td>\n",
              "      <td>...</td>\n",
              "      <td>...</td>\n",
              "      <td>...</td>\n",
              "    </tr>\n",
              "    <tr>\n",
              "      <th>2387170</th>\n",
              "      <td>A331B58PUCXLT4</td>\n",
              "      <td>B001W81LZ2</td>\n",
              "      <td>4.0</td>\n",
              "      <td>50</td>\n",
              "      <td>50</td>\n",
              "    </tr>\n",
              "    <tr>\n",
              "      <th>5642108</th>\n",
              "      <td>AC1CU4MZLG373</td>\n",
              "      <td>B0076HMD7S</td>\n",
              "      <td>5.0</td>\n",
              "      <td>50</td>\n",
              "      <td>50</td>\n",
              "    </tr>\n",
              "    <tr>\n",
              "      <th>4834127</th>\n",
              "      <td>A38WFVXDVLW5XX</td>\n",
              "      <td>B005CTCL8S</td>\n",
              "      <td>1.0</td>\n",
              "      <td>50</td>\n",
              "      <td>50</td>\n",
              "    </tr>\n",
              "    <tr>\n",
              "      <th>4834128</th>\n",
              "      <td>A1CMZ0ZI25S4AQ</td>\n",
              "      <td>B005CTCL8S</td>\n",
              "      <td>5.0</td>\n",
              "      <td>50</td>\n",
              "      <td>50</td>\n",
              "    </tr>\n",
              "    <tr>\n",
              "      <th>4834129</th>\n",
              "      <td>A10PJ3KQV3X1LT</td>\n",
              "      <td>B005CTCL8S</td>\n",
              "      <td>5.0</td>\n",
              "      <td>50</td>\n",
              "      <td>50</td>\n",
              "    </tr>\n",
              "    <tr>\n",
              "      <th>3833450</th>\n",
              "      <td>A1JYO5K02IY14Y</td>\n",
              "      <td>B004357WL8</td>\n",
              "      <td>5.0</td>\n",
              "      <td>50</td>\n",
              "      <td>50</td>\n",
              "    </tr>\n",
              "    <tr>\n",
              "      <th>4834139</th>\n",
              "      <td>A38OYWXFQCF29U</td>\n",
              "      <td>B005CTCL8S</td>\n",
              "      <td>4.0</td>\n",
              "      <td>50</td>\n",
              "      <td>50</td>\n",
              "    </tr>\n",
              "    <tr>\n",
              "      <th>4834138</th>\n",
              "      <td>A2B6Y6NB7NCASA</td>\n",
              "      <td>B005CTCL8S</td>\n",
              "      <td>5.0</td>\n",
              "      <td>50</td>\n",
              "      <td>50</td>\n",
              "    </tr>\n",
              "    <tr>\n",
              "      <th>4834136</th>\n",
              "      <td>AE9QWJETO90U0</td>\n",
              "      <td>B005CTCL8S</td>\n",
              "      <td>4.0</td>\n",
              "      <td>50</td>\n",
              "      <td>50</td>\n",
              "    </tr>\n",
              "    <tr>\n",
              "      <th>5642107</th>\n",
              "      <td>A3T0PYVPZ0HCBU</td>\n",
              "      <td>B0076HMD7S</td>\n",
              "      <td>5.0</td>\n",
              "      <td>50</td>\n",
              "      <td>50</td>\n",
              "    </tr>\n",
              "    <tr>\n",
              "      <th>4834135</th>\n",
              "      <td>A28CG7IV6FQTLI</td>\n",
              "      <td>B005CTCL8S</td>\n",
              "      <td>4.0</td>\n",
              "      <td>50</td>\n",
              "      <td>50</td>\n",
              "    </tr>\n",
              "    <tr>\n",
              "      <th>4834134</th>\n",
              "      <td>A2Y4ZKO4REY2PJ</td>\n",
              "      <td>B005CTCL8S</td>\n",
              "      <td>4.0</td>\n",
              "      <td>50</td>\n",
              "      <td>50</td>\n",
              "    </tr>\n",
              "    <tr>\n",
              "      <th>4834133</th>\n",
              "      <td>A3R4BQ9N7L4VO2</td>\n",
              "      <td>B005CTCL8S</td>\n",
              "      <td>4.0</td>\n",
              "      <td>50</td>\n",
              "      <td>50</td>\n",
              "    </tr>\n",
              "    <tr>\n",
              "      <th>4834132</th>\n",
              "      <td>A1JCAT5T0OAI3W</td>\n",
              "      <td>B005CTCL8S</td>\n",
              "      <td>5.0</td>\n",
              "      <td>50</td>\n",
              "      <td>50</td>\n",
              "    </tr>\n",
              "    <tr>\n",
              "      <th>4834130</th>\n",
              "      <td>A2WUBFFCM9RJLY</td>\n",
              "      <td>B005CTCL8S</td>\n",
              "      <td>5.0</td>\n",
              "      <td>50</td>\n",
              "      <td>50</td>\n",
              "    </tr>\n",
              "    <tr>\n",
              "      <th>6185091</th>\n",
              "      <td>A3TQQNZUSAQYN</td>\n",
              "      <td>B008DB9PCM</td>\n",
              "      <td>5.0</td>\n",
              "      <td>50</td>\n",
              "      <td>50</td>\n",
              "    </tr>\n",
              "    <tr>\n",
              "      <th>5642102</th>\n",
              "      <td>A1ZJWIYP548EEV</td>\n",
              "      <td>B0076HMD7S</td>\n",
              "      <td>5.0</td>\n",
              "      <td>50</td>\n",
              "      <td>50</td>\n",
              "    </tr>\n",
              "    <tr>\n",
              "      <th>6185088</th>\n",
              "      <td>A18FC8C5QWJGZ9</td>\n",
              "      <td>B008DB9PCM</td>\n",
              "      <td>1.0</td>\n",
              "      <td>50</td>\n",
              "      <td>50</td>\n",
              "    </tr>\n",
              "    <tr>\n",
              "      <th>6185089</th>\n",
              "      <td>A22D2MCNUH1T4V</td>\n",
              "      <td>B008DB9PCM</td>\n",
              "      <td>4.0</td>\n",
              "      <td>50</td>\n",
              "      <td>50</td>\n",
              "    </tr>\n",
              "    <tr>\n",
              "      <th>4111600</th>\n",
              "      <td>A1GXMU7IK0LTIY</td>\n",
              "      <td>B004GIW9RY</td>\n",
              "      <td>1.0</td>\n",
              "      <td>50</td>\n",
              "      <td>50</td>\n",
              "    </tr>\n",
              "    <tr>\n",
              "      <th>2387171</th>\n",
              "      <td>AI3F2DVMGAB1N</td>\n",
              "      <td>B001W81LZ2</td>\n",
              "      <td>4.0</td>\n",
              "      <td>50</td>\n",
              "      <td>50</td>\n",
              "    </tr>\n",
              "    <tr>\n",
              "      <th>5642106</th>\n",
              "      <td>A2873IBNVXTJUT</td>\n",
              "      <td>B0076HMD7S</td>\n",
              "      <td>1.0</td>\n",
              "      <td>50</td>\n",
              "      <td>50</td>\n",
              "    </tr>\n",
              "    <tr>\n",
              "      <th>2387172</th>\n",
              "      <td>ACSVFVB9E21FI</td>\n",
              "      <td>B001W81LZ2</td>\n",
              "      <td>4.0</td>\n",
              "      <td>50</td>\n",
              "      <td>50</td>\n",
              "    </tr>\n",
              "    <tr>\n",
              "      <th>5642103</th>\n",
              "      <td>A2Y85677BUGZK2</td>\n",
              "      <td>B0076HMD7S</td>\n",
              "      <td>5.0</td>\n",
              "      <td>50</td>\n",
              "      <td>50</td>\n",
              "    </tr>\n",
              "    <tr>\n",
              "      <th>2387174</th>\n",
              "      <td>A4NH7DNTR2EHP</td>\n",
              "      <td>B001W81LZ2</td>\n",
              "      <td>5.0</td>\n",
              "      <td>50</td>\n",
              "      <td>50</td>\n",
              "    </tr>\n",
              "    <tr>\n",
              "      <th>5642105</th>\n",
              "      <td>A27WE4Q1QCGHQD</td>\n",
              "      <td>B0076HMD7S</td>\n",
              "      <td>4.0</td>\n",
              "      <td>50</td>\n",
              "      <td>50</td>\n",
              "    </tr>\n",
              "    <tr>\n",
              "      <th>2387173</th>\n",
              "      <td>A2SSOUJIZQ8NEK</td>\n",
              "      <td>B001W81LZ2</td>\n",
              "      <td>3.0</td>\n",
              "      <td>50</td>\n",
              "      <td>50</td>\n",
              "    </tr>\n",
              "    <tr>\n",
              "      <th>4834131</th>\n",
              "      <td>A5XEX56CHDVW6</td>\n",
              "      <td>B005CTCL8S</td>\n",
              "      <td>1.0</td>\n",
              "      <td>50</td>\n",
              "      <td>50</td>\n",
              "    </tr>\n",
              "    <tr>\n",
              "      <th>4111592</th>\n",
              "      <td>A19MOG94MD6D05</td>\n",
              "      <td>B004GIW9RY</td>\n",
              "      <td>5.0</td>\n",
              "      <td>50</td>\n",
              "      <td>50</td>\n",
              "    </tr>\n",
              "    <tr>\n",
              "      <th>5642104</th>\n",
              "      <td>A3A4UKJUP34E18</td>\n",
              "      <td>B0076HMD7S</td>\n",
              "      <td>5.0</td>\n",
              "      <td>50</td>\n",
              "      <td>50</td>\n",
              "    </tr>\n",
              "  </tbody>\n",
              "</table>\n",
              "<p>5374313 rows × 5 columns</p>\n",
              "</div>"
            ],
            "text/plain": [
              "                 UserId   ProductId  Rating  UserId_count  Rating_count\n",
              "5606371  A2BPZ5E8LZI8UC  B0074BW614     5.0         18244         18244\n",
              "5596987  A1LFIYSN3U0WGZ  B0074BW614     5.0         18244         18244\n",
              "5596971   AHPX71LWPYX04  B0074BW614     4.0         18244         18244\n",
              "5596972   AQ33D1F0YJWXD  B0074BW614     1.0         18244         18244\n",
              "5596973  A3CK4QWTFLRTBB  B0074BW614     5.0         18244         18244\n",
              "5596974   AX1YPL8L9D51K  B0074BW614     2.0         18244         18244\n",
              "5596975  A2JFB3BGEESSQ0  B0074BW614     3.0         18244         18244\n",
              "5596976   AU0GRX1XX4Z6G  B0074BW614     5.0         18244         18244\n",
              "5596977  A1ZH30WFAA1TDW  B0074BW614     5.0         18244         18244\n",
              "5596978  A3VUNF8AE7N0CD  B0074BW614     5.0         18244         18244\n",
              "5596979  A32JMC4YTOPKCR  B0074BW614     5.0         18244         18244\n",
              "5596980   AXJOK8KXSBUKK  B0074BW614     3.0         18244         18244\n",
              "5596981   ACPUBRZGH1ZB0  B0074BW614     5.0         18244         18244\n",
              "5596982   AWJ82J3R05O5G  B0074BW614     5.0         18244         18244\n",
              "5596983  A3NVCGVOBWJ2NL  B0074BW614     4.0         18244         18244\n",
              "5596984  A29QV5AKIGN85N  B0074BW614     3.0         18244         18244\n",
              "5596985  A29WHFXN2RRHAY  B0074BW614     3.0         18244         18244\n",
              "5596970   ASNNCGGSOZ8PT  B0074BW614     5.0         18244         18244\n",
              "5596969   AMM8M3KJFM0DS  B0074BW614     5.0         18244         18244\n",
              "5596968  A1FE61EX2BD8HR  B0074BW614     5.0         18244         18244\n",
              "5596959  A1MXEX7O2LOGE8  B0074BW614     5.0         18244         18244\n",
              "5596953  A3Q9LNYI5B2U6P  B0074BW614     5.0         18244         18244\n",
              "5596954  A325SQG9TVY9AO  B0074BW614     5.0         18244         18244\n",
              "5596955   AZ5MJN0IKWR4U  B0074BW614     5.0         18244         18244\n",
              "5596956  A2MMD3TOW20ZOT  B0074BW614     5.0         18244         18244\n",
              "5596957  A2LSZFEFTDRDIJ  B0074BW614     5.0         18244         18244\n",
              "5596958  A1TD7ON8NGKDKX  B0074BW614     5.0         18244         18244\n",
              "5596960  A3A0EVURCECX0H  B0074BW614     4.0         18244         18244\n",
              "5596967  A2EQ8P6MA55G1M  B0074BW614     5.0         18244         18244\n",
              "5596961   AKPVY9WW0SZ8I  B0074BW614     5.0         18244         18244\n",
              "...                 ...         ...     ...           ...           ...\n",
              "2387170  A331B58PUCXLT4  B001W81LZ2     4.0            50            50\n",
              "5642108   AC1CU4MZLG373  B0076HMD7S     5.0            50            50\n",
              "4834127  A38WFVXDVLW5XX  B005CTCL8S     1.0            50            50\n",
              "4834128  A1CMZ0ZI25S4AQ  B005CTCL8S     5.0            50            50\n",
              "4834129  A10PJ3KQV3X1LT  B005CTCL8S     5.0            50            50\n",
              "3833450  A1JYO5K02IY14Y  B004357WL8     5.0            50            50\n",
              "4834139  A38OYWXFQCF29U  B005CTCL8S     4.0            50            50\n",
              "4834138  A2B6Y6NB7NCASA  B005CTCL8S     5.0            50            50\n",
              "4834136   AE9QWJETO90U0  B005CTCL8S     4.0            50            50\n",
              "5642107  A3T0PYVPZ0HCBU  B0076HMD7S     5.0            50            50\n",
              "4834135  A28CG7IV6FQTLI  B005CTCL8S     4.0            50            50\n",
              "4834134  A2Y4ZKO4REY2PJ  B005CTCL8S     4.0            50            50\n",
              "4834133  A3R4BQ9N7L4VO2  B005CTCL8S     4.0            50            50\n",
              "4834132  A1JCAT5T0OAI3W  B005CTCL8S     5.0            50            50\n",
              "4834130  A2WUBFFCM9RJLY  B005CTCL8S     5.0            50            50\n",
              "6185091   A3TQQNZUSAQYN  B008DB9PCM     5.0            50            50\n",
              "5642102  A1ZJWIYP548EEV  B0076HMD7S     5.0            50            50\n",
              "6185088  A18FC8C5QWJGZ9  B008DB9PCM     1.0            50            50\n",
              "6185089  A22D2MCNUH1T4V  B008DB9PCM     4.0            50            50\n",
              "4111600  A1GXMU7IK0LTIY  B004GIW9RY     1.0            50            50\n",
              "2387171   AI3F2DVMGAB1N  B001W81LZ2     4.0            50            50\n",
              "5642106  A2873IBNVXTJUT  B0076HMD7S     1.0            50            50\n",
              "2387172   ACSVFVB9E21FI  B001W81LZ2     4.0            50            50\n",
              "5642103  A2Y85677BUGZK2  B0076HMD7S     5.0            50            50\n",
              "2387174   A4NH7DNTR2EHP  B001W81LZ2     5.0            50            50\n",
              "5642105  A27WE4Q1QCGHQD  B0076HMD7S     4.0            50            50\n",
              "2387173  A2SSOUJIZQ8NEK  B001W81LZ2     3.0            50            50\n",
              "4834131   A5XEX56CHDVW6  B005CTCL8S     1.0            50            50\n",
              "4111592  A19MOG94MD6D05  B004GIW9RY     5.0            50            50\n",
              "5642104  A3A4UKJUP34E18  B0076HMD7S     5.0            50            50\n",
              "\n",
              "[5374313 rows x 5 columns]"
            ]
          },
          "metadata": {
            "tags": []
          },
          "execution_count": 32
        }
      ]
    },
    {
      "cell_type": "code",
      "metadata": {
        "id": "IQUFXz2-QHui",
        "colab_type": "code",
        "outputId": "26710e87-ec1a-4e66-86ad-e576f366c791",
        "colab": {
          "base_uri": "https://localhost:8080/",
          "height": 119
        }
      },
      "source": [
        "dfCount1.apply(lambda x: len(x.unique()))"
      ],
      "execution_count": 0,
      "outputs": [
        {
          "output_type": "execute_result",
          "data": {
            "text/plain": [
              "UserId          3225223\n",
              "ProductId         26226\n",
              "Rating                5\n",
              "UserId_count       1444\n",
              "Rating_count       1444\n",
              "dtype: int64"
            ]
          },
          "metadata": {
            "tags": []
          },
          "execution_count": 33
        }
      ]
    },
    {
      "cell_type": "code",
      "metadata": {
        "id": "7M7h5Bz9YP8O",
        "colab_type": "code",
        "outputId": "62521783-0031-4465-8504-2113cfd01b88",
        "colab": {
          "base_uri": "https://localhost:8080/",
          "height": 187
        }
      },
      "source": [
        "dfCount1.info()"
      ],
      "execution_count": 0,
      "outputs": [
        {
          "output_type": "stream",
          "text": [
            "<class 'pandas.core.frame.DataFrame'>\n",
            "Int64Index: 5374313 entries, 5606371 to 5642104\n",
            "Data columns (total 5 columns):\n",
            "UserId          object\n",
            "ProductId       object\n",
            "Rating          float64\n",
            "UserId_count    int64\n",
            "Rating_count    int64\n",
            "dtypes: float64(1), int64(2), object(2)\n",
            "memory usage: 246.0+ MB\n"
          ],
          "name": "stdout"
        }
      ]
    },
    {
      "cell_type": "code",
      "metadata": {
        "id": "j7l5gNweBlNF",
        "colab_type": "code",
        "outputId": "1e974ebe-7921-48d0-8ff2-56c1b3c9e3f7",
        "colab": {
          "base_uri": "https://localhost:8080/",
          "height": 163
        }
      },
      "source": [
        "df.head()"
      ],
      "execution_count": 0,
      "outputs": [
        {
          "output_type": "error",
          "ename": "NameError",
          "evalue": "ignored",
          "traceback": [
            "\u001b[0;31m---------------------------------------------------------------------------\u001b[0m",
            "\u001b[0;31mNameError\u001b[0m                                 Traceback (most recent call last)",
            "\u001b[0;32m<ipython-input-5-c42a15b2c7cf>\u001b[0m in \u001b[0;36m<module>\u001b[0;34m()\u001b[0m\n\u001b[0;32m----> 1\u001b[0;31m \u001b[0mdf\u001b[0m\u001b[0;34m.\u001b[0m\u001b[0mhead\u001b[0m\u001b[0;34m(\u001b[0m\u001b[0;34m)\u001b[0m\u001b[0;34m\u001b[0m\u001b[0;34m\u001b[0m\u001b[0m\n\u001b[0m",
            "\u001b[0;31mNameError\u001b[0m: name 'df' is not defined"
          ]
        }
      ]
    },
    {
      "cell_type": "markdown",
      "metadata": {
        "id": "ZNqRNNp078lJ",
        "colab_type": "text"
      },
      "source": [
        "# Splitting train and test data"
      ]
    },
    {
      "cell_type": "code",
      "metadata": {
        "id": "KoVdGW3v7zX7",
        "colab_type": "code",
        "outputId": "91b403c0-529c-4902-dbfc-deeebd9415ec",
        "colab": {
          "base_uri": "https://localhost:8080/",
          "height": 197
        }
      },
      "source": [
        "#Splitting train and test data\n",
        "from sklearn.model_selection import train_test_split\n",
        "\n",
        "train,test = train_test_split(df ,test_size =.3,random_state = 123)"
      ],
      "execution_count": 0,
      "outputs": [
        {
          "output_type": "error",
          "ename": "NameError",
          "evalue": "ignored",
          "traceback": [
            "\u001b[0;31m---------------------------------------------------------------------------\u001b[0m",
            "\u001b[0;31mNameError\u001b[0m                                 Traceback (most recent call last)",
            "\u001b[0;32m<ipython-input-4-be77f64d37b1>\u001b[0m in \u001b[0;36m<module>\u001b[0;34m()\u001b[0m\n\u001b[1;32m      1\u001b[0m \u001b[0;32mfrom\u001b[0m \u001b[0msklearn\u001b[0m\u001b[0;34m.\u001b[0m\u001b[0mmodel_selection\u001b[0m \u001b[0;32mimport\u001b[0m \u001b[0mtrain_test_split\u001b[0m\u001b[0;34m\u001b[0m\u001b[0;34m\u001b[0m\u001b[0m\n\u001b[1;32m      2\u001b[0m \u001b[0;34m\u001b[0m\u001b[0m\n\u001b[0;32m----> 3\u001b[0;31m \u001b[0mtrain\u001b[0m\u001b[0;34m,\u001b[0m\u001b[0mtest\u001b[0m \u001b[0;34m=\u001b[0m \u001b[0mtrain_test_split\u001b[0m\u001b[0;34m(\u001b[0m\u001b[0mdf\u001b[0m \u001b[0;34m,\u001b[0m\u001b[0mtest_size\u001b[0m \u001b[0;34m=\u001b[0m\u001b[0;36m.3\u001b[0m\u001b[0;34m,\u001b[0m\u001b[0mrandom_state\u001b[0m \u001b[0;34m=\u001b[0m \u001b[0;36m123\u001b[0m\u001b[0;34m)\u001b[0m\u001b[0;34m\u001b[0m\u001b[0;34m\u001b[0m\u001b[0m\n\u001b[0m",
            "\u001b[0;31mNameError\u001b[0m: name 'df' is not defined"
          ]
        }
      ]
    },
    {
      "cell_type": "markdown",
      "metadata": {
        "id": "3ZmDCjrYvg45",
        "colab_type": "text"
      },
      "source": [
        "## Building Popularity Based recommender engine(Basic recommender engine to show latest trending products)"
      ]
    },
    {
      "cell_type": "code",
      "metadata": {
        "id": "HbEcP9w4Jnni",
        "colab_type": "code",
        "outputId": "6c1e9210-c94e-44a1-8d78-5c11cf073989",
        "colab": {
          "base_uri": "https://localhost:8080/",
          "height": 119
        }
      },
      "source": [
        "## Preparing the Treding dataset. It will be used to recommend based on the popularity based on Rating given as 5 (highest rating).\n",
        "from datetime import datetime\n",
        "ratings_Electronics_dataframe_withTS.columns = [\"UserId\",\"ProductId\",\"Rating\",\"TS\"]\n",
        "ratings_Electronics_dataframe_withDateTime = ratings_Electronics_dataframe_withTS.copy()\n",
        "ratings_Electronics_dataframe_withDateTime[\"Date_Time\"] = ratings_Electronics_dataframe_withDateTime[\"TS\"] #Rename TS to Date_Time\n",
        "ratings_Electronics_dataframe_withDateTime.loc[:, 'Date_Time']=ratings_Electronics_dataframe_withTS.TS.apply(lambda x: pd.datetime.fromtimestamp(x).date())\n",
        "ratings_Electronics_dataframe_withDateTime[\"Date_Time\"].head()\n",
        "\n"
      ],
      "execution_count": 0,
      "outputs": [
        {
          "output_type": "execute_result",
          "data": {
            "text/plain": [
              "0    2012-07-01\n",
              "1    2013-04-29\n",
              "2    2013-07-22\n",
              "3    2012-04-18\n",
              "4    2014-04-14\n",
              "Name: Date_Time, dtype: object"
            ]
          },
          "metadata": {
            "tags": []
          },
          "execution_count": 48
        }
      ]
    },
    {
      "cell_type": "code",
      "metadata": {
        "id": "35b_hddIu4y8",
        "colab_type": "code",
        "outputId": "1f1c1bb8-6ba8-4b16-f13c-f314436ec194",
        "colab": {
          "base_uri": "https://localhost:8080/",
          "height": 669
        }
      },
      "source": [
        "ratings_Electronics_dataframe_withDateTime.head(20)"
      ],
      "execution_count": 0,
      "outputs": [
        {
          "output_type": "execute_result",
          "data": {
            "text/html": [
              "<div>\n",
              "<style scoped>\n",
              "    .dataframe tbody tr th:only-of-type {\n",
              "        vertical-align: middle;\n",
              "    }\n",
              "\n",
              "    .dataframe tbody tr th {\n",
              "        vertical-align: top;\n",
              "    }\n",
              "\n",
              "    .dataframe thead th {\n",
              "        text-align: right;\n",
              "    }\n",
              "</style>\n",
              "<table border=\"1\" class=\"dataframe\">\n",
              "  <thead>\n",
              "    <tr style=\"text-align: right;\">\n",
              "      <th></th>\n",
              "      <th>UserId</th>\n",
              "      <th>ProductId</th>\n",
              "      <th>Rating</th>\n",
              "      <th>TS</th>\n",
              "      <th>Date_Time</th>\n",
              "    </tr>\n",
              "  </thead>\n",
              "  <tbody>\n",
              "    <tr>\n",
              "      <th>0</th>\n",
              "      <td>A2CX7LUOHB2NDG</td>\n",
              "      <td>0321732944</td>\n",
              "      <td>5.0</td>\n",
              "      <td>1341100800</td>\n",
              "      <td>2012-07-01</td>\n",
              "    </tr>\n",
              "    <tr>\n",
              "      <th>1</th>\n",
              "      <td>A2NWSAGRHCP8N5</td>\n",
              "      <td>0439886341</td>\n",
              "      <td>1.0</td>\n",
              "      <td>1367193600</td>\n",
              "      <td>2013-04-29</td>\n",
              "    </tr>\n",
              "    <tr>\n",
              "      <th>2</th>\n",
              "      <td>A2WNBOD3WNDNKT</td>\n",
              "      <td>0439886341</td>\n",
              "      <td>3.0</td>\n",
              "      <td>1374451200</td>\n",
              "      <td>2013-07-22</td>\n",
              "    </tr>\n",
              "    <tr>\n",
              "      <th>3</th>\n",
              "      <td>A1GI0U4ZRJA8WN</td>\n",
              "      <td>0439886341</td>\n",
              "      <td>1.0</td>\n",
              "      <td>1334707200</td>\n",
              "      <td>2012-04-18</td>\n",
              "    </tr>\n",
              "    <tr>\n",
              "      <th>4</th>\n",
              "      <td>A1QGNMC6O1VW39</td>\n",
              "      <td>0511189877</td>\n",
              "      <td>5.0</td>\n",
              "      <td>1397433600</td>\n",
              "      <td>2014-04-14</td>\n",
              "    </tr>\n",
              "    <tr>\n",
              "      <th>5</th>\n",
              "      <td>A3J3BRHTDRFJ2G</td>\n",
              "      <td>0511189877</td>\n",
              "      <td>2.0</td>\n",
              "      <td>1397433600</td>\n",
              "      <td>2014-04-14</td>\n",
              "    </tr>\n",
              "    <tr>\n",
              "      <th>6</th>\n",
              "      <td>A2TY0BTJOTENPG</td>\n",
              "      <td>0511189877</td>\n",
              "      <td>5.0</td>\n",
              "      <td>1395878400</td>\n",
              "      <td>2014-03-27</td>\n",
              "    </tr>\n",
              "    <tr>\n",
              "      <th>7</th>\n",
              "      <td>A34ATBPOK6HCHY</td>\n",
              "      <td>0511189877</td>\n",
              "      <td>5.0</td>\n",
              "      <td>1395532800</td>\n",
              "      <td>2014-03-23</td>\n",
              "    </tr>\n",
              "    <tr>\n",
              "      <th>8</th>\n",
              "      <td>A89DO69P0XZ27</td>\n",
              "      <td>0511189877</td>\n",
              "      <td>5.0</td>\n",
              "      <td>1395446400</td>\n",
              "      <td>2014-03-22</td>\n",
              "    </tr>\n",
              "    <tr>\n",
              "      <th>9</th>\n",
              "      <td>AZYNQZ94U6VDB</td>\n",
              "      <td>0511189877</td>\n",
              "      <td>5.0</td>\n",
              "      <td>1401321600</td>\n",
              "      <td>2014-05-29</td>\n",
              "    </tr>\n",
              "    <tr>\n",
              "      <th>10</th>\n",
              "      <td>A1DA3W4GTFXP6O</td>\n",
              "      <td>0528881469</td>\n",
              "      <td>5.0</td>\n",
              "      <td>1405641600</td>\n",
              "      <td>2014-07-18</td>\n",
              "    </tr>\n",
              "    <tr>\n",
              "      <th>11</th>\n",
              "      <td>A29LPQQDG7LD5J</td>\n",
              "      <td>0528881469</td>\n",
              "      <td>1.0</td>\n",
              "      <td>1352073600</td>\n",
              "      <td>2012-11-05</td>\n",
              "    </tr>\n",
              "    <tr>\n",
              "      <th>12</th>\n",
              "      <td>AO94DHGC771SJ</td>\n",
              "      <td>0528881469</td>\n",
              "      <td>5.0</td>\n",
              "      <td>1370131200</td>\n",
              "      <td>2013-06-02</td>\n",
              "    </tr>\n",
              "    <tr>\n",
              "      <th>13</th>\n",
              "      <td>AMO214LNFCEI4</td>\n",
              "      <td>0528881469</td>\n",
              "      <td>1.0</td>\n",
              "      <td>1290643200</td>\n",
              "      <td>2010-11-25</td>\n",
              "    </tr>\n",
              "    <tr>\n",
              "      <th>14</th>\n",
              "      <td>A28B1G1MSJ6OO1</td>\n",
              "      <td>0528881469</td>\n",
              "      <td>4.0</td>\n",
              "      <td>1280016000</td>\n",
              "      <td>2010-07-25</td>\n",
              "    </tr>\n",
              "    <tr>\n",
              "      <th>15</th>\n",
              "      <td>A3N7T0DY83Y4IG</td>\n",
              "      <td>0528881469</td>\n",
              "      <td>3.0</td>\n",
              "      <td>1283990400</td>\n",
              "      <td>2010-09-09</td>\n",
              "    </tr>\n",
              "    <tr>\n",
              "      <th>16</th>\n",
              "      <td>A1H8PY3QHMQQA0</td>\n",
              "      <td>0528881469</td>\n",
              "      <td>2.0</td>\n",
              "      <td>1290556800</td>\n",
              "      <td>2010-11-24</td>\n",
              "    </tr>\n",
              "    <tr>\n",
              "      <th>17</th>\n",
              "      <td>A2CPBQ5W4OGBX</td>\n",
              "      <td>0528881469</td>\n",
              "      <td>2.0</td>\n",
              "      <td>1277078400</td>\n",
              "      <td>2010-06-21</td>\n",
              "    </tr>\n",
              "    <tr>\n",
              "      <th>18</th>\n",
              "      <td>A265MKAR2WEH3Y</td>\n",
              "      <td>0528881469</td>\n",
              "      <td>4.0</td>\n",
              "      <td>1294790400</td>\n",
              "      <td>2011-01-12</td>\n",
              "    </tr>\n",
              "    <tr>\n",
              "      <th>19</th>\n",
              "      <td>A37K02NKUIT68K</td>\n",
              "      <td>0528881469</td>\n",
              "      <td>5.0</td>\n",
              "      <td>1293235200</td>\n",
              "      <td>2010-12-25</td>\n",
              "    </tr>\n",
              "  </tbody>\n",
              "</table>\n",
              "</div>"
            ],
            "text/plain": [
              "            UserId   ProductId  Rating          TS   Date_Time\n",
              "0   A2CX7LUOHB2NDG  0321732944     5.0  1341100800  2012-07-01\n",
              "1   A2NWSAGRHCP8N5  0439886341     1.0  1367193600  2013-04-29\n",
              "2   A2WNBOD3WNDNKT  0439886341     3.0  1374451200  2013-07-22\n",
              "3   A1GI0U4ZRJA8WN  0439886341     1.0  1334707200  2012-04-18\n",
              "4   A1QGNMC6O1VW39  0511189877     5.0  1397433600  2014-04-14\n",
              "5   A3J3BRHTDRFJ2G  0511189877     2.0  1397433600  2014-04-14\n",
              "6   A2TY0BTJOTENPG  0511189877     5.0  1395878400  2014-03-27\n",
              "7   A34ATBPOK6HCHY  0511189877     5.0  1395532800  2014-03-23\n",
              "8    A89DO69P0XZ27  0511189877     5.0  1395446400  2014-03-22\n",
              "9    AZYNQZ94U6VDB  0511189877     5.0  1401321600  2014-05-29\n",
              "10  A1DA3W4GTFXP6O  0528881469     5.0  1405641600  2014-07-18\n",
              "11  A29LPQQDG7LD5J  0528881469     1.0  1352073600  2012-11-05\n",
              "12   AO94DHGC771SJ  0528881469     5.0  1370131200  2013-06-02\n",
              "13   AMO214LNFCEI4  0528881469     1.0  1290643200  2010-11-25\n",
              "14  A28B1G1MSJ6OO1  0528881469     4.0  1280016000  2010-07-25\n",
              "15  A3N7T0DY83Y4IG  0528881469     3.0  1283990400  2010-09-09\n",
              "16  A1H8PY3QHMQQA0  0528881469     2.0  1290556800  2010-11-24\n",
              "17   A2CPBQ5W4OGBX  0528881469     2.0  1277078400  2010-06-21\n",
              "18  A265MKAR2WEH3Y  0528881469     4.0  1294790400  2011-01-12\n",
              "19  A37K02NKUIT68K  0528881469     5.0  1293235200  2010-12-25"
            ]
          },
          "metadata": {
            "tags": []
          },
          "execution_count": 64
        }
      ]
    },
    {
      "cell_type": "code",
      "metadata": {
        "id": "OOokYCitr4UO",
        "colab_type": "code",
        "outputId": "44c59ffc-db74-43d4-9f27-0f69fd08c75c",
        "colab": {
          "base_uri": "https://localhost:8080/",
          "height": 51
        }
      },
      "source": [
        "from datetime import date\n",
        "from datetime import time\n",
        "from datetime import datetime\n",
        "from datetime import timedelta\n",
        "NumberofDays = 180\n",
        "start_date = max(ratings_Electronics_dataframe_withDateTime['Date_Time']) ## Change the start and end date range based on the requirement\n",
        "end_date = start_date - timedelta(days=NumberofDays) ## Assuming product with Rating 5 between these duration are trending.\n",
        "#print (start_date)\n",
        "#print (end_date)\n",
        "ratings = 5\n",
        "Treding_df = \"\"\n",
        "mask = (ratings_Electronics_dataframe_withDateTime[\"Date_Time\"] <= start_date) & (ratings_Electronics_dataframe_withDateTime[\"Date_Time\"] > end_date)  & (ratings_Electronics_dataframe_withDateTime[\"Rating\"] == ratings)\n",
        "Treding_df = ratings_Electronics_dataframe_withDateTime.loc[mask]\n",
        "\n",
        "## sort the Tredning_df based on descendng Datetime; i.e. Latest on top.\n",
        "Treding_df = Treding_df.sort_values(by='Date_Time', ascending=False)"
      ],
      "execution_count": 0,
      "outputs": [
        {
          "output_type": "stream",
          "text": [
            "2014-07-23\n",
            "2014-01-24\n"
          ],
          "name": "stdout"
        }
      ]
    },
    {
      "cell_type": "code",
      "metadata": {
        "id": "-hcq5WAWumx2",
        "colab_type": "code",
        "outputId": "8f4f892b-8320-4dd2-f183-8abb7b56f4ed",
        "colab": {
          "base_uri": "https://localhost:8080/",
          "height": 204
        }
      },
      "source": [
        "Treding_df.head()"
      ],
      "execution_count": 0,
      "outputs": [
        {
          "output_type": "execute_result",
          "data": {
            "text/html": [
              "<div>\n",
              "<style scoped>\n",
              "    .dataframe tbody tr th:only-of-type {\n",
              "        vertical-align: middle;\n",
              "    }\n",
              "\n",
              "    .dataframe tbody tr th {\n",
              "        vertical-align: top;\n",
              "    }\n",
              "\n",
              "    .dataframe thead th {\n",
              "        text-align: right;\n",
              "    }\n",
              "</style>\n",
              "<table border=\"1\" class=\"dataframe\">\n",
              "  <thead>\n",
              "    <tr style=\"text-align: right;\">\n",
              "      <th></th>\n",
              "      <th>UserId</th>\n",
              "      <th>ProductId</th>\n",
              "      <th>Rating</th>\n",
              "      <th>TS</th>\n",
              "      <th>Date_Time</th>\n",
              "    </tr>\n",
              "  </thead>\n",
              "  <tbody>\n",
              "    <tr>\n",
              "      <th>6000381</th>\n",
              "      <td>A37GFU4OEDGVT4</td>\n",
              "      <td>B0080E8G04</td>\n",
              "      <td>5.0</td>\n",
              "      <td>1406073600</td>\n",
              "      <td>2014-07-23</td>\n",
              "    </tr>\n",
              "    <tr>\n",
              "      <th>7783031</th>\n",
              "      <td>A1K9334IMOE1WL</td>\n",
              "      <td>B00I9OPF2W</td>\n",
              "      <td>5.0</td>\n",
              "      <td>1406073600</td>\n",
              "      <td>2014-07-23</td>\n",
              "    </tr>\n",
              "    <tr>\n",
              "      <th>5016805</th>\n",
              "      <td>A8S3VHWFDXIVG</td>\n",
              "      <td>B005J37Q0A</td>\n",
              "      <td>5.0</td>\n",
              "      <td>1406073600</td>\n",
              "      <td>2014-07-23</td>\n",
              "    </tr>\n",
              "    <tr>\n",
              "      <th>2424383</th>\n",
              "      <td>A2XWT63AI2BX01</td>\n",
              "      <td>B0024R4B5C</td>\n",
              "      <td>5.0</td>\n",
              "      <td>1406073600</td>\n",
              "      <td>2014-07-23</td>\n",
              "    </tr>\n",
              "    <tr>\n",
              "      <th>7793418</th>\n",
              "      <td>A26BPXU5P3BC1X</td>\n",
              "      <td>B00ILCS11E</td>\n",
              "      <td>5.0</td>\n",
              "      <td>1406073600</td>\n",
              "      <td>2014-07-23</td>\n",
              "    </tr>\n",
              "  </tbody>\n",
              "</table>\n",
              "</div>"
            ],
            "text/plain": [
              "                 UserId   ProductId  Rating          TS   Date_Time\n",
              "6000381  A37GFU4OEDGVT4  B0080E8G04     5.0  1406073600  2014-07-23\n",
              "7783031  A1K9334IMOE1WL  B00I9OPF2W     5.0  1406073600  2014-07-23\n",
              "5016805   A8S3VHWFDXIVG  B005J37Q0A     5.0  1406073600  2014-07-23\n",
              "2424383  A2XWT63AI2BX01  B0024R4B5C     5.0  1406073600  2014-07-23\n",
              "7793418  A26BPXU5P3BC1X  B00ILCS11E     5.0  1406073600  2014-07-23"
            ]
          },
          "metadata": {
            "tags": []
          },
          "execution_count": 68
        }
      ]
    },
    {
      "cell_type": "markdown",
      "metadata": {
        "id": "lLEfsCBzDJRH",
        "colab_type": "text"
      },
      "source": [
        "## As I said before that the method recommend gives the recommendation to the user which is passed as a parameter. So, it returns the list of the popular products for the user but since it is popularity based recommendation system the recommendation for the users will not be affected. It will give same results for all user ( Trending Products)"
      ]
    },
    {
      "cell_type": "code",
      "metadata": {
        "id": "poctDlI_DIWX",
        "colab_type": "code",
        "colab": {}
      },
      "source": [
        "def Popularity_Recommender (data, userid, productid):\n",
        "        return Trending_df"
      ],
      "execution_count": 0,
      "outputs": []
    },
    {
      "cell_type": "markdown",
      "metadata": {
        "id": "K0ZFZY0397hC",
        "colab_type": "text"
      },
      "source": [
        "## We will use the simple Popularity_Recommender function to pass Train dataset , any user id and productid to get the Trending Products"
      ]
    },
    {
      "cell_type": "code",
      "metadata": {
        "id": "Hre17yMS96I5",
        "colab_type": "code",
        "outputId": "d9c76be8-5e33-4722-a34a-79327fb50e5e",
        "colab": {
          "base_uri": "https://localhost:8080/",
          "height": 231
        }
      },
      "source": [
        "import random\n",
        "\n",
        "for i in range(5) : \n",
        "  Suggested_Trending_df = \"\"\n",
        "  train_index = random.randint(1,len(train))\n",
        "  print(\"***** Hello User ID : \", train.loc[train_index, \"UserId\"], \" , You have selected Product ID : \", train.loc[train_index, \"ProductId\"], \" *****\") \n",
        "  print(\"***** There are below five trending products available to purchase *****\")\n",
        "  Suggested_Trending_df = Popularity_Recommender(train,train.loc[train_index, \"UserId\"], train.loc[train_index, \"ProductId\"] )\n",
        "  for x in range(5):\n",
        "    print(\"***** User ID : \", Suggested_Trending_df.loc[x, \"UserId\"], \" , Purchased Product ID : \", Suggested_Trending_df.loc[x, \"ProductId\"], \" and Rated 5 *****\") \n"
      ],
      "execution_count": 0,
      "outputs": [
        {
          "output_type": "error",
          "ename": "NameError",
          "evalue": "ignored",
          "traceback": [
            "\u001b[0;31m---------------------------------------------------------------------------\u001b[0m",
            "\u001b[0;31mNameError\u001b[0m                                 Traceback (most recent call last)",
            "\u001b[0;32m<ipython-input-3-535a6cedaf49>\u001b[0m in \u001b[0;36m<module>\u001b[0;34m()\u001b[0m\n\u001b[1;32m      3\u001b[0m \u001b[0;32mfor\u001b[0m \u001b[0mi\u001b[0m \u001b[0;32min\u001b[0m \u001b[0mrange\u001b[0m\u001b[0;34m(\u001b[0m\u001b[0;36m5\u001b[0m\u001b[0;34m)\u001b[0m \u001b[0;34m:\u001b[0m\u001b[0;34m\u001b[0m\u001b[0;34m\u001b[0m\u001b[0m\n\u001b[1;32m      4\u001b[0m   \u001b[0mSuggested_Trending_df\u001b[0m \u001b[0;34m=\u001b[0m \u001b[0;34m\"\"\u001b[0m\u001b[0;34m\u001b[0m\u001b[0;34m\u001b[0m\u001b[0m\n\u001b[0;32m----> 5\u001b[0;31m   \u001b[0mtrain_index\u001b[0m \u001b[0;34m=\u001b[0m \u001b[0mrandom\u001b[0m\u001b[0;34m.\u001b[0m\u001b[0mrandint\u001b[0m\u001b[0;34m(\u001b[0m\u001b[0;36m1\u001b[0m\u001b[0;34m,\u001b[0m\u001b[0mlen\u001b[0m\u001b[0;34m(\u001b[0m\u001b[0mtrain\u001b[0m\u001b[0;34m)\u001b[0m\u001b[0;34m)\u001b[0m\u001b[0;34m\u001b[0m\u001b[0;34m\u001b[0m\u001b[0m\n\u001b[0m\u001b[1;32m      6\u001b[0m   \u001b[0mprint\u001b[0m\u001b[0;34m(\u001b[0m\u001b[0;34m\"***** Hello User ID : \"\u001b[0m\u001b[0;34m,\u001b[0m \u001b[0mtrain\u001b[0m\u001b[0;34m.\u001b[0m\u001b[0mloc\u001b[0m\u001b[0;34m[\u001b[0m\u001b[0mtrain_index\u001b[0m\u001b[0;34m,\u001b[0m \u001b[0;34m\"UserId\"\u001b[0m\u001b[0;34m]\u001b[0m\u001b[0;34m,\u001b[0m \u001b[0;34m\" , You have selected Product ID : \"\u001b[0m\u001b[0;34m,\u001b[0m \u001b[0mtrain\u001b[0m\u001b[0;34m.\u001b[0m\u001b[0mloc\u001b[0m\u001b[0;34m[\u001b[0m\u001b[0mtrain_index\u001b[0m\u001b[0;34m,\u001b[0m \u001b[0;34m\"ProductId\"\u001b[0m\u001b[0;34m]\u001b[0m\u001b[0;34m,\u001b[0m \u001b[0;34m\" *****\"\u001b[0m\u001b[0;34m)\u001b[0m\u001b[0;34m\u001b[0m\u001b[0;34m\u001b[0m\u001b[0m\n\u001b[1;32m      7\u001b[0m   \u001b[0mprint\u001b[0m\u001b[0;34m(\u001b[0m\u001b[0;34m\"***** There are below five trending products available to purchase *****\"\u001b[0m\u001b[0;34m)\u001b[0m\u001b[0;34m\u001b[0m\u001b[0;34m\u001b[0m\u001b[0m\n",
            "\u001b[0;31mNameError\u001b[0m: name 'train' is not defined"
          ]
        }
      ]
    },
    {
      "cell_type": "code",
      "metadata": {
        "id": "iVxl8lyR398y",
        "colab_type": "code",
        "colab": {}
      },
      "source": [
        "pr = Recommender.Popularity_Recommender()\n",
        "pr.create(train_data, 'user_id', 'song')"
      ],
      "execution_count": 0,
      "outputs": []
    },
    {
      "cell_type": "markdown",
      "metadata": {
        "colab_type": "text",
        "id": "CK_J2MoYqKjF"
      },
      "source": [
        "# Splitting train and test data"
      ]
    },
    {
      "cell_type": "code",
      "metadata": {
        "id": "L2inFQbndjXt",
        "colab_type": "code",
        "colab": {}
      },
      "source": [
        "#Splitting train and test data\n",
        "from sklearn.model_selection import train_test_split\n",
        "\n",
        "train,test = train_test_split(df ,test_size =.3,random_state = 123)\n",
        "train_X = train[[x for x in train.columns if x not in [\"strength\"] + [\"age\"]]]\n",
        "train_Y = train[\"strength\"]\n",
        "test_X  = test[[x for x in test.columns if x not in [\"strength\"] + [\"age\"]]]\n",
        "test_Y  = test[\"strength\"]"
      ],
      "execution_count": 0,
      "outputs": []
    }
  ]
}