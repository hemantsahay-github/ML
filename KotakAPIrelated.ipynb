{
  "nbformat": 4,
  "nbformat_minor": 0,
  "metadata": {
    "colab": {
      "provenance": [],
      "authorship_tag": "ABX9TyOBo+WypHzTy0rHi3WRA6KW",
      "include_colab_link": true
    },
    "kernelspec": {
      "name": "python3",
      "display_name": "Python 3"
    },
    "language_info": {
      "name": "python"
    }
  },
  "cells": [
    {
      "cell_type": "markdown",
      "metadata": {
        "id": "view-in-github",
        "colab_type": "text"
      },
      "source": [
        "<a href=\"https://colab.research.google.com/github/hemantsahay-github/ML/blob/master/KotakAPIrelated.ipynb\" target=\"_parent\"><img src=\"https://colab.research.google.com/assets/colab-badge.svg\" alt=\"Open In Colab\"/></a>"
      ]
    },
    {
      "cell_type": "code",
      "execution_count": 12,
      "metadata": {
        "colab": {
          "base_uri": "https://localhost:8080/"
        },
        "id": "Ddd0S881cV45",
        "outputId": "034a9038-5488-48c2-9ab0-39afa1c88cb5"
      },
      "outputs": [
        {
          "output_type": "stream",
          "name": "stdout",
          "text": [
            "Collecting neo_api_client\n",
            "  Cloning https://github.com/Kotak-Neo/kotak-neo-api.git to /tmp/pip-install-sa242i7v/neo-api-client_5dbff94cd9e54c129f4425a9a6775bc8\n",
            "  Running command git clone --filter=blob:none --quiet https://github.com/Kotak-Neo/kotak-neo-api.git /tmp/pip-install-sa242i7v/neo-api-client_5dbff94cd9e54c129f4425a9a6775bc8\n",
            "  Resolved https://github.com/Kotak-Neo/kotak-neo-api.git to commit 67143c58f29da9572cdbb273199852682a0019d5\n",
            "  Preparing metadata (setup.py) ... \u001b[?25l\u001b[?25hdone\n",
            "Requirement already satisfied: bidict==0.22.1 in /usr/local/lib/python3.11/dist-packages (from neo_api_client) (0.22.1)\n",
            "Requirement already satisfied: certifi==2022.12.7 in /usr/local/lib/python3.11/dist-packages (from neo_api_client) (2022.12.7)\n",
            "Requirement already satisfied: idna==2.10 in /usr/local/lib/python3.11/dist-packages (from neo_api_client) (2.10)\n",
            "Requirement already satisfied: numpy==1.24.2 in /usr/local/lib/python3.11/dist-packages (from neo_api_client) (1.24.2)\n",
            "Requirement already satisfied: pyjsparser==2.7.1 in /usr/local/lib/python3.11/dist-packages (from neo_api_client) (2.7.1)\n",
            "Requirement already satisfied: PyJWT==2.6.0 in /usr/local/lib/python3.11/dist-packages (from neo_api_client) (2.6.0)\n",
            "Requirement already satisfied: python-dateutil==2.8.2 in /usr/local/lib/python3.11/dist-packages (from neo_api_client) (2.8.2)\n",
            "Requirement already satisfied: python-dotenv==1.0.0 in /usr/local/lib/python3.11/dist-packages (from neo_api_client) (1.0.0)\n",
            "Requirement already satisfied: requests==2.25.1 in /usr/local/lib/python3.11/dist-packages (from neo_api_client) (2.25.1)\n",
            "Requirement already satisfied: six==1.16.0 in /usr/local/lib/python3.11/dist-packages (from neo_api_client) (1.16.0)\n",
            "Requirement already satisfied: urllib3==1.26.14 in /usr/local/lib/python3.11/dist-packages (from neo_api_client) (1.26.14)\n",
            "Requirement already satisfied: websocket-client==1.5.1 in /usr/local/lib/python3.11/dist-packages (from neo_api_client) (1.5.1)\n",
            "Requirement already satisfied: websockets==8.1 in /usr/local/lib/python3.11/dist-packages (from neo_api_client) (8.1)\n",
            "Requirement already satisfied: pandas==2.0.0 in /usr/local/lib/python3.11/dist-packages (from neo_api_client) (2.0.0)\n",
            "Requirement already satisfied: asyncio==3.4.3 in /usr/local/lib/python3.11/dist-packages (from neo_api_client) (3.4.3)\n",
            "Requirement already satisfied: pytz>=2020.1 in /usr/local/lib/python3.11/dist-packages (from pandas==2.0.0->neo_api_client) (2025.1)\n",
            "Requirement already satisfied: tzdata>=2022.1 in /usr/local/lib/python3.11/dist-packages (from pandas==2.0.0->neo_api_client) (2025.1)\n",
            "Requirement already satisfied: chardet<5,>=3.0.2 in /usr/local/lib/python3.11/dist-packages (from requests==2.25.1->neo_api_client) (4.0.0)\n"
          ]
        }
      ],
      "source": [
        "pip install \"git+https://github.com/Kotak-Neo/kotak-neo-api.git#egg=neo_api_client\""
      ]
    },
    {
      "cell_type": "code",
      "source": [
        "import neo_api_client"
      ],
      "metadata": {
        "id": "ioZR5lYIfy6n"
      },
      "execution_count": 13,
      "outputs": []
    },
    {
      "cell_type": "code",
      "source": [
        "!python setup.py install --user"
      ],
      "metadata": {
        "colab": {
          "base_uri": "https://localhost:8080/"
        },
        "id": "CVmZB8RNgVnh",
        "outputId": "b1521ef9-92b5-4b66-fa89-e122212f2748"
      },
      "execution_count": 14,
      "outputs": [
        {
          "output_type": "stream",
          "name": "stdout",
          "text": [
            "python3: can't open file '/content/setup.py': [Errno 2] No such file or directory\n"
          ]
        }
      ]
    }
  ]
}